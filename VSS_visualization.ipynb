{
 "cells": [
  {
   "cell_type": "markdown",
   "metadata": {},
   "source": [
    "####Enable inline to print graphs within Notebook"
   ]
  },
  {
   "cell_type": "code",
   "execution_count": 1,
   "metadata": {
    "collapsed": false
   },
   "outputs": [
    {
     "name": "stdout",
     "output_type": "stream",
     "text": [
      "Populating the interactive namespace from numpy and matplotlib\n"
     ]
    }
   ],
   "source": [
    "%pylab inline"
   ]
  },
  {
   "cell_type": "markdown",
   "metadata": {},
   "source": [
    "####Import packages"
   ]
  },
  {
   "cell_type": "code",
   "execution_count": 1,
   "metadata": {
    "collapsed": false
   },
   "outputs": [],
   "source": [
    "import glob\n",
    "import pandas as pd\n",
    "import matplotlib.pyplot as plt\n",
    "import seaborn as sns #seaborn is a very pretty graphing package\n",
    "import nltk as nltk\n",
    "import numpy as np\n",
    "import networkx as nx\n",
    "import csv as csv\n",
    "import heapq\n",
    "from pyper import R\n",
    "from sklearn.feature_extraction.text import TfidfVectorizer \n",
    "import sklearn.cluster as sk\n",
    "import pickle\n",
    "\n",
    "r = R(use_pandas = True)\n",
    "\n",
    "import nibabel as nib"
   ]
  },
  {
   "cell_type": "code",
   "execution_count": 3,
   "metadata": {
    "collapsed": false
   },
   "outputs": [],
   "source": [
    "poplist = [\"THAT\", \"WHICH\", \"FROM\", \"SUCH\", \"ABOUT\", \n",
    "           \"LIKE\", \"WERE\", \"WITH\", \"THIS\", \"WHEN\", \"THAN\", \"EACH\", \"BETWEEN\"\n",
    "            'THEY', 'USING', 'WHETHER', 'ALSO', \"HOWEVER\", \"RESULTS\", \"THESE\",\n",
    "           \"BOTH\", \"USED\", \"ONLY\", \"THEY\", \"THEIR\", \"DURING\", \"WHILE\"\n",
    "          ]\n",
    "wordlist = [ 'allowed', 'us', 'recent', 'studies', 'remains', 'into', 'previous', 'viewed',\n",
    "            'more', 'during', '=', '[', ']', \"'s\", '%', 'across', 'all'\n",
    "            'are', 'both', 'or', 'such', 'as', 'was', '<', 'an', 'that', 'suggest', \n",
    "            'results', 'with', 'et', 'al', 'were', 'found', 'can', 'our', 'participants', 'been',\n",
    "            'be', 'it', 'is', ')', ';',  '(', 'may','we', 'have', 'has', \n",
    "            'the', 'in', 'of', 'a', 'and', 'for', ',', '.', 'these', '\\'', \n",
    "            ':', 'by', 'does', 'on', 'but', 'each', 'trial', 'this', 'over', 'had', 'no', \n",
    "             'ms', 'experiments', 'how', 'towards', 'showed', 'shows', 'i',  \n",
    "            'are', 'there', 'even', 'though', 'important', 'significantly',\n",
    "            'study', 'rather', 'than', 'not', 'to', 'from', 'when', 'experiment',\n",
    "            'revealed', 'abstracts', 'abstract', 'likely', 'all', 'findings', 'typically',\n",
    "            'provide', '&',\n",
    "           'they', 'per', 'presented', 'at', 'about', 'between', 'observers' ,'sup', \n",
    "            '2001', '2002', '2003', '2004', '2005', '2006', '2007', '2008', '2009', '2010', '2011', '2012', '2013', '2014']\n",
    "for i in poplist:\n",
    "    if i.lower() not in wordlist:\n",
    "        wordlist.append(i.lower())  \n"
   ]
  },
  {
   "cell_type": "code",
   "execution_count": 24,
   "metadata": {
    "collapsed": false
   },
   "outputs": [
    {
     "data": {
      "text/html": [
       "<div>\n",
       "<table border=\"1\" class=\"dataframe\">\n",
       "  <thead>\n",
       "    <tr style=\"text-align: right;\">\n",
       "      <th></th>\n",
       "      <th>index</th>\n",
       "      <th>abstact</th>\n",
       "      <th>authors</th>\n",
       "      <th>date</th>\n",
       "      <th>title</th>\n",
       "      <th>year</th>\n",
       "      <th>abstract</th>\n",
       "    </tr>\n",
       "  </thead>\n",
       "  <tbody>\n",
       "    <tr>\n",
       "      <th>0</th>\n",
       "      <td>0</td>\n",
       "      <td>[ Purpose: Being able to see one's hand while ...</td>\n",
       "      <td>[J. Saunders, D. Knill]</td>\n",
       "      <td>2001/12/01</td>\n",
       "      <td>Response to perturbations of visual feedback d...</td>\n",
       "      <td>2001</td>\n",
       "      <td>purpose: being able to see one's hand while r...</td>\n",
       "    </tr>\n",
       "    <tr>\n",
       "      <th>1</th>\n",
       "      <td>1</td>\n",
       "      <td>[ Despite the richness of research testing per...</td>\n",
       "      <td>[D. T. Levin]</td>\n",
       "      <td>2001/12/01</td>\n",
       "      <td>Visual metacognitions underlying change blindn...</td>\n",
       "      <td>2001</td>\n",
       "      <td>despite the richness of research testing perf...</td>\n",
       "    </tr>\n",
       "    <tr>\n",
       "      <th>2</th>\n",
       "      <td>2</td>\n",
       "      <td>[ Purpose: To design a simple experimental str...</td>\n",
       "      <td>[Manfred MacKeben]</td>\n",
       "      <td>2001/12/01</td>\n",
       "      <td>Enhancement of peripheral letter recognition b...</td>\n",
       "      <td>2001</td>\n",
       "      <td>purpose: to design a simple experimental stra...</td>\n",
       "    </tr>\n",
       "    <tr>\n",
       "      <th>3</th>\n",
       "      <td>3</td>\n",
       "      <td>[ The two aims of this study were (1) to asses...</td>\n",
       "      <td>[P. Zaenen, J. Wagemans, R. Vogels]</td>\n",
       "      <td>2001/12/01</td>\n",
       "      <td>Learning to discriminate highly similar three-...</td>\n",
       "      <td>2001</td>\n",
       "      <td>the two aims of this study were (1) to assess...</td>\n",
       "    </tr>\n",
       "    <tr>\n",
       "      <th>4</th>\n",
       "      <td>4</td>\n",
       "      <td>[ The current study was designed to investigat...</td>\n",
       "      <td>[Y. Takarae, D. T. Levin]</td>\n",
       "      <td>2001/12/01</td>\n",
       "      <td>Is the pen mightier than the pen-axe? Correct ...</td>\n",
       "      <td>2001</td>\n",
       "      <td>the current study was designed to investigate...</td>\n",
       "    </tr>\n",
       "  </tbody>\n",
       "</table>\n",
       "</div>"
      ],
      "text/plain": [
       "   index                                            abstact  \\\n",
       "0      0  [ Purpose: Being able to see one's hand while ...   \n",
       "1      1  [ Despite the richness of research testing per...   \n",
       "2      2  [ Purpose: To design a simple experimental str...   \n",
       "3      3  [ The two aims of this study were (1) to asses...   \n",
       "4      4  [ The current study was designed to investigat...   \n",
       "\n",
       "                               authors        date  \\\n",
       "0              [J. Saunders, D. Knill]  2001/12/01   \n",
       "1                        [D. T. Levin]  2001/12/01   \n",
       "2                   [Manfred MacKeben]  2001/12/01   \n",
       "3  [P. Zaenen, J. Wagemans, R. Vogels]  2001/12/01   \n",
       "4            [Y. Takarae, D. T. Levin]  2001/12/01   \n",
       "\n",
       "                                               title  year  \\\n",
       "0  Response to perturbations of visual feedback d...  2001   \n",
       "1  Visual metacognitions underlying change blindn...  2001   \n",
       "2  Enhancement of peripheral letter recognition b...  2001   \n",
       "3  Learning to discriminate highly similar three-...  2001   \n",
       "4  Is the pen mightier than the pen-axe? Correct ...  2001   \n",
       "\n",
       "                                            abstract  \n",
       "0   purpose: being able to see one's hand while r...  \n",
       "1   despite the richness of research testing perf...  \n",
       "2   purpose: to design a simple experimental stra...  \n",
       "3   the two aims of this study were (1) to assess...  \n",
       "4   the current study was designed to investigate...  "
      ]
     },
     "execution_count": 24,
     "metadata": {},
     "output_type": "execute_result"
    }
   ],
   "source": [
    "####Read in all abstracts\n",
    "allFiles = glob.glob(\"all_abstracts/*.txt\")\n",
    "df = pd.DataFrame()\n",
    "list_ = []\n",
    "for file_ in allFiles:\n",
    "    infile = open(file_,'r')\n",
    "    for line in infile:\n",
    "        indict = eval(line)\n",
    "        \n",
    "        list_.append(indict)\n",
    "        \n",
    "df = pd.DataFrame(list_)\n",
    "df['year'] = df['date'].apply(lambda x: pd.Series(x[0:4]))\n",
    "\n",
    "#add abstracts in new column, now strings\n",
    "df[\"abstract\"] = df[\"abstact\"].apply(lambda x: pd.Series(x[0].lower()) if len(x) > 0 else pd.Series(\" \"))\n",
    "df.head()\n",
    "\n",
    "#remove nonspikes\n",
    "for year in set(df.date):\n",
    "    if len(df[df.date == year]) < 400:\n",
    "        df = df[df.date != year]\n",
    "        \n",
    "#clean up authors\n",
    "#load dict \n",
    "\n",
    "\n",
    "## Drop duplicate entries\n",
    "df = df.drop_duplicates('abstract')\n",
    "#df = df.reset_index()\n",
    "#df = df.drop('index',1)\n",
    "df = df.reset_index()\n",
    "df.head()"
   ]
  },
  {
   "cell_type": "code",
   "execution_count": 7,
   "metadata": {
    "collapsed": false
   },
   "outputs": [
    {
     "data": {
      "text/plain": [
       "13105"
      ]
     },
     "execution_count": 7,
     "metadata": {},
     "output_type": "execute_result"
    }
   ],
   "source": [
    "#create a new data frame DF2 with one author/ row\n",
    "infoListFiles = glob.glob('all_abstracts/abstracts_*')\n",
    "\n",
    "## Read in abstracts and convert to dataFrame \n",
    "infoList = []\n",
    "for i,infile in enumerate(infoListFiles):\n",
    "    tmp = [eval(item) for item in open(infile)]\n",
    "    for j,item in enumerate(tmp):\n",
    "        #print item\n",
    "        abstract = item['abstact']        \n",
    "        try:\n",
    "            tmp[j]['abstact'] = abstract[0] #make abstract just a string not a string in a list, necessary for evaluate duplicates\n",
    "        except IndexError:\n",
    "            #print item['title'] + \" has no abstract\"\n",
    "            tmp[j]['abstact'] = ''\n",
    "            \n",
    "    infoList.extend(tmp)\n",
    "    \n",
    "df2 = pd.DataFrame(infoList)\n",
    "df2 = df2[df2.abstact != '']\n",
    "df2 = df2.drop_duplicates('abstact')\n",
    "\n",
    "\n",
    "        \n",
    "        \n",
    "## Separate authors\n",
    "i = df2['authors'].map(len)\n",
    "j = np.repeat(np.arange(len(df2)), list(i))\n",
    "k = np.concatenate(list(map(np.arange, list(i))))\n",
    "\n",
    "df2 = df2.iloc[j]\n",
    "\n",
    "for col in ['authors']:\n",
    "    df2[col] = list(map(lambda xs, i: xs[i], df2[col], k)) \n",
    "\n",
    "## Drop duplicate entries\n",
    "\n",
    "df2 = df2.reset_index()\n",
    "df2 = df2.drop('index',1)\n",
    "\n",
    "\n",
    "df2.head()\n",
    "\n",
    "#replace authors in df2\n",
    "name_dict = pickle.load(open( \"replacement_dictionary.p\") )\n",
    "df2[\"authors\"].replace(name_dict, inplace=True)\n",
    "\n",
    "df2['year'] = df2['date'].apply(lambda x: pd.Series(x[0:4]))\n",
    "#remove nonspikes\n",
    "for year in set(df2.date):\n",
    "    if len(df2[df2.date == year]) < 400:\n",
    "        df2 = df2[df2.date != year]\n",
    "df2.head()\n",
    "len(set(df2.authors))"
   ]
  },
  {
   "cell_type": "code",
   "execution_count": 5,
   "metadata": {
    "collapsed": true
   },
   "outputs": [],
   "source": [
    "#Read in COCA and put it into a data frame\n",
    "filegram = pd.read_csv(\"2gramcountsWords.csv\", sep=',', header = None)\n",
    "filegram[3] = filegram[0] + \" \" + filegram[1]\n",
    "\n",
    "filegram.head()\n",
    "filegram_list = filegram[3].tolist()"
   ]
  },
  {
   "cell_type": "markdown",
   "metadata": {},
   "source": [
    "####Count total titles per date and plot"
   ]
  },
  {
   "cell_type": "code",
   "execution_count": 6,
   "metadata": {
    "collapsed": false,
    "scrolled": true
   },
   "outputs": [
    {
     "data": {
      "image/png": "[encoded data removed]",
      "text/plain": [
       "<matplotlib.figure.Figure at 0x106322c50>"
      ]
     },
     "metadata": {},
     "output_type": "display_data"
    }
   ],
   "source": [
    "h = df.groupby('date')\n",
    "g = h['title'].count().reset_index()\n",
    "ax = g.plot(kind = \"bar\", x=\"date\", y=\"title\")"
   ]
  },
  {
   "cell_type": "markdown",
   "metadata": {},
   "source": [
    "#### For text analysis, concatenate all tiles into one passage"
   ]
  },
  {
   "cell_type": "markdown",
   "metadata": {},
   "source": [
    "#### Import text analysis packages "
   ]
  },
  {
   "cell_type": "code",
   "execution_count": 6,
   "metadata": {
    "collapsed": true
   },
   "outputs": [],
   "source": [
    "import re #Regular expressions\n",
    "from collections import Counter\n",
    "import operator"
   ]
  },
  {
   "cell_type": "markdown",
   "metadata": {},
   "source": [
    "# Authors"
   ]
  },
  {
   "cell_type": "markdown",
   "metadata": {},
   "source": [
    "## Number of authors "
   ]
  },
  {
   "cell_type": "code",
   "execution_count": 8,
   "metadata": {
    "collapsed": false
   },
   "outputs": [
    {
     "name": "stdout",
     "output_type": "stream",
     "text": [
      "['J. Saunders', 'D. Knill', 'D. T. Levin', 'Manfred MacKeben', 'P. Zaenen', 'J. Wagemans', 'R. Vogels', 'Y. Takarae', 'D. T. Levin', 'G. F. Woodman']\n",
      "number of unique authors: 13105\n"
     ]
    }
   ],
   "source": [
    "#Find the number of authors\n",
    "author_list = []\n",
    "auttest = []\n",
    "adf = df[\"authors\"]\n",
    "for i in adf:\n",
    "    for j in i:\n",
    "        auttest.append(j)\n",
    "for i in adf:\n",
    "    for j in i:\n",
    "        if j not in author_list:\n",
    "            author_list.append(j)\n",
    "\n",
    "print auttest[:10]\n",
    "name_dict = pickle.load(open( \"replacement_dictionary.p\") )\n",
    "for i in range(len(auttest)):\n",
    "    if auttest[i] in name_dict.keys():\n",
    "        auttest[i] = name_dict[auttest[i]]\n",
    "    \n",
    "#sort all the authors \n",
    "autcount = Counter(auttest)\n",
    "autsort = sorted(autcount.items(), key=operator.itemgetter(0), reverse = True)\n",
    " \n",
    "\n",
    "#number of unique authors (without grouping variations of a name together)\n",
    "print \"number of unique authors:\", len(autsort)"
   ]
  },
  {
   "cell_type": "markdown",
   "metadata": {},
   "source": [
    "## Average number of collaborators/paper/year"
   ]
  },
  {
   "cell_type": "code",
   "execution_count": 12,
   "metadata": {
    "collapsed": false,
    "scrolled": true
   },
   "outputs": [
    {
     "name": "stdout",
     "output_type": "stream",
     "text": [
      "average number of collaborators/article: 2.82703366285\n"
     ]
    },
    {
     "data": {
      "text/plain": [
       "<matplotlib.text.Text at 0x11791bc90>"
      ]
     },
     "execution_count": 12,
     "metadata": {},
     "output_type": "execute_result"
    },
    {
     "data": {
      "image/png": "[encoded data removed]",
      "text/plain": [
       "<matplotlib.figure.Figure at 0x106322d90>"
      ]
     },
     "metadata": {},
     "output_type": "display_data"
    }
   ],
   "source": [
    "#avg number of collaborators/paper/year\n",
    "cpy = []\n",
    "col_hist = []\n",
    "art_ct = 0\n",
    "\n",
    "for i in range(2001, 2015):\n",
    "    author_count = 0.0\n",
    "    arts = df[df.year == str(i)]\n",
    "    art_count = len(arts)\n",
    "    for j in range(len(arts)):\n",
    "        if len(df[\"authors\"][j]) == 0:\n",
    "            art_count = art_count - 1\n",
    "        else:\n",
    "            author_count = author_count + len(df[\"authors\"][j])\n",
    "            col_hist.append(len(df[\"authors\"][j]))\n",
    "    cpy.append(author_count/art_count)\n",
    "    art_ct = art_ct + art_count*1.0\n",
    "\n",
    "print \"average number of collaborators/article:\", sum(col_hist)/sum(art_ct)\n",
    "\n",
    "plt.hist(col_hist, bins=range(min(col_hist), max(col_hist) + 2, 1\n",
    "                                       ))\n",
    "plt.xlabel(\"number of authors\")\n",
    "plt.ylabel(\"number of abstracts\")"
   ]
  },
  {
   "cell_type": "code",
   "execution_count": null,
   "metadata": {
    "collapsed": false,
    "scrolled": true
   },
   "outputs": [],
   "source": [
    "#Visitor analysis. How many unique people came each year? Once someone came, what % of \n",
    "#possible years did they return again?\n",
    "\n",
    "unique_authors = []\n",
    "list_auts_freq = []\n",
    "for day in range(2001, 2015):\n",
    "    templist = df[df.year == str(day)][\"authors\"].tolist()\n",
    "    #flatten it\n",
    "    templist2 = []\n",
    "    #replace names\n",
    "    for i in templist:\n",
    "        for k in i:\n",
    "            if k in name_dict.keys():\n",
    "                templist2.append(name_dict[k])\n",
    "            else:\n",
    "                templist2.append(k)\n",
    "    #remove duplicates\n",
    "    list_auts_freq.append([day, sorted(Counter(templist2).items(), \n",
    "                                       key=operator.itemgetter(1), reverse = True)])\n",
    "    \n",
    "    templist2 = list(set(templist2))\n",
    "    unique_authors.append([day, templist2])\n",
    "    \n",
    "#graph it\n",
    "u_aut_num = []\n",
    "u_aut_yr = []\n",
    "for i in unique_authors:\n",
    "    u_aut_yr.append(int(i[0]))\n",
    "    u_aut_num.append(len(i[1]))\n",
    "\n",
    "plt.bar(u_aut_yr,u_aut_num)\n",
    "plt.xlabel(\"year\")\n",
    "plt.ylabel(\"number of unique authors\")\n"
   ]
  },
  {
   "cell_type": "code",
   "execution_count": 54,
   "metadata": {
    "collapsed": false
   },
   "outputs": [
    {
     "name": "stdout",
     "output_type": "stream",
     "text": [
      "482\n",
      "746\n",
      "874\n",
      "914\n",
      "1070\n",
      "984\n",
      "1080\n",
      "1176\n",
      "1146\n",
      "1384\n",
      "1346\n",
      "1403\n",
      "1395\n",
      "1477\n",
      "[480, 746, 874, 910, 1065, 979, 1078, 1175, 1129, 1363, 1333, 1398, 1386, 1468]\n"
     ]
    },
    {
     "data": {
      "image/png": "[encoded data removed]",
      "text/plain": [
       "<matplotlib.figure.Figure at 0x112248fd0>"
      ]
     },
     "metadata": {},
     "output_type": "display_data"
    }
   ],
   "source": [
    "#number of unique first authors each year\n",
    "u_first_authors = []\n",
    "list_u_auts_freq = []\n",
    "for day in range(2001, 2015):\n",
    "    print len(df[df.year == str(day)])\n",
    "    templist = df[df.year == str(day)][\"authors\"].tolist()\n",
    "    #flatten it\n",
    "    templist2 = []\n",
    "    #replace names\n",
    "    for i in templist:\n",
    "        if i[0] in name_dict.keys():\n",
    "            templist2.append(name_dict[i[0]])\n",
    "        else:\n",
    "            templist2.append(i[0])\n",
    "    templist2 = list(set(templist2))\n",
    "    u_first_authors.append([day, templist2])\n",
    "    \n",
    "#graph it\n",
    "u_aut_num = []\n",
    "u_aut_yr = []\n",
    "for i in u_first_authors:\n",
    "    u_aut_yr.append(int(i[0]))\n",
    "    u_aut_num.append(len(i[1]))\n",
    "\n",
    "plt.bar(u_aut_yr,u_aut_num)\n",
    "plt.xlabel(\"year\")\n",
    "plt.ylabel(\"number of unique authors\")\n",
    "print u_aut_num"
   ]
  },
  {
   "cell_type": "code",
   "execution_count": 55,
   "metadata": {
    "collapsed": false
   },
   "outputs": [],
   "source": [
    "#look at first authors who publish twice a year \n",
    "dup = []\n",
    "for day, autlist in u_first_authors:\n",
    "    templist = []\n",
    "    df_temp = df[df.year == str(day)]\n",
    "    df_temp = df_temp.reset_index()\n",
    "    for i in range(len(df_temp)):\n",
    "        name = df_temp[\"authors\"][i][0]\n",
    "        if name in name_dict.keys():\n",
    "            name = name_dict[name]\n",
    "        if name in autlist:\n",
    "            autlist.remove(name)\n",
    "        else:\n",
    "            templist.append(df_temp[\"authors\"][i][0])\n",
    "    dup.append([day, templist])    "
   ]
  },
  {
   "cell_type": "code",
   "execution_count": 64,
   "metadata": {
    "collapsed": false
   },
   "outputs": [],
   "source": [
    "df_rep = pd.DataFrame()\n",
    "for day, autlist in dup: \n",
    "    df_temp = df[df.year == str(day)]\n",
    "    df_temp = df_temp.reset_index()\n",
    "    for i in range(len(df_temp)):\n",
    "        name = df_temp[\"authors\"][i][0]\n",
    "        if name in name_dict.keys():\n",
    "            name = name_dict[name]\n",
    "        if name in autlist:\n",
    "            df_rep = df_rep.append(df_temp[df_temp.index == i])"
   ]
  },
  {
   "cell_type": "code",
   "execution_count": 82,
   "metadata": {
    "collapsed": false
   },
   "outputs": [
    {
     "name": "stdout",
     "output_type": "stream",
     "text": [
      "[2011, ['Martin Giese', 'Hakwan Lau', 'Jacqueline M. Fulvio', 'Rufin Vogels', 'Duje Tadin', \"Shin'ya Nishida\", 'Chia-Chien Wu', 'Matthew F. Peterson', 'Alexander A. Petrov', 'SooJin Park', 'Jonathan Zadra', 'Jacqueline M. Fulvio', 'Alexander A. Petrov']]\n"
     ]
    }
   ],
   "source": [
    "print dup[10\n",
    "         ]"
   ]
  },
  {
   "cell_type": "code",
   "execution_count": 83,
   "metadata": {
    "collapsed": false
   },
   "outputs": [
    {
     "data": {
      "text/html": [
       "<div>\n",
       "<table border=\"1\" class=\"dataframe\">\n",
       "  <thead>\n",
       "    <tr style=\"text-align: right;\">\n",
       "      <th></th>\n",
       "      <th>level_0</th>\n",
       "      <th>index</th>\n",
       "      <th>abstact</th>\n",
       "      <th>authors</th>\n",
       "      <th>date</th>\n",
       "      <th>title</th>\n",
       "      <th>year</th>\n",
       "      <th>abstract</th>\n",
       "    </tr>\n",
       "  </thead>\n",
       "  <tbody>\n",
       "    <tr>\n",
       "      <th>0</th>\n",
       "      <td>2201</td>\n",
       "      <td>2281</td>\n",
       "      <td>[Neural responses in many visual areas are usu...</td>\n",
       "      <td>[Rufin Vogels]</td>\n",
       "      <td>2011/09/01</td>\n",
       "      <td>Symposium Summary</td>\n",
       "      <td>2011</td>\n",
       "      <td>Neural responses in many visual areas are usua...</td>\n",
       "    </tr>\n",
       "    <tr>\n",
       "      <th>82</th>\n",
       "      <td>2283</td>\n",
       "      <td>2363</td>\n",
       "      <td>[To perceive a symmetry pattern, the observer ...</td>\n",
       "      <td>[Chia-Ching Wu, Chien-Chung Chen]</td>\n",
       "      <td>2011/09/01</td>\n",
       "      <td>The integration of color information in symmet...</td>\n",
       "      <td>2011</td>\n",
       "      <td>To perceive a symmetry pattern, the observer h...</td>\n",
       "    </tr>\n",
       "    <tr>\n",
       "      <th>425</th>\n",
       "      <td>2655</td>\n",
       "      <td>2806</td>\n",
       "      <td>[Even in the absence of external stimulation, ...</td>\n",
       "      <td>[Hakwan Lau]</td>\n",
       "      <td>2011/09/01</td>\n",
       "      <td>Symposium Summary</td>\n",
       "      <td>2011</td>\n",
       "      <td>Even in the absence of external stimulation, t...</td>\n",
       "    </tr>\n",
       "    <tr>\n",
       "      <th>459</th>\n",
       "      <td>2689</td>\n",
       "      <td>2840</td>\n",
       "      <td>[One recent study reported that when ongoing p...</td>\n",
       "      <td>[Hakwan Lau, Dobromir Rahnev]</td>\n",
       "      <td>2011/09/01</td>\n",
       "      <td>The paradoxical negative relationship between ...</td>\n",
       "      <td>2011</td>\n",
       "      <td>One recent study reported that when ongoing pr...</td>\n",
       "    </tr>\n",
       "    <tr>\n",
       "      <th>481</th>\n",
       "      <td>2711</td>\n",
       "      <td>2862</td>\n",
       "      <td>[In a world constantly in flux, we are faced w...</td>\n",
       "      <td>[Jacqueline M. Fulvio, Paul R. Schrater]</td>\n",
       "      <td>2011/09/01</td>\n",
       "      <td>Symposium Summary</td>\n",
       "      <td>2011</td>\n",
       "      <td>In a world constantly in flux, we are faced wi...</td>\n",
       "    </tr>\n",
       "  </tbody>\n",
       "</table>\n",
       "</div>"
      ],
      "text/plain": [
       "     level_0  index                                            abstact  \\\n",
       "0       2201   2281  [Neural responses in many visual areas are usu...   \n",
       "82      2283   2363  [To perceive a symmetry pattern, the observer ...   \n",
       "425     2655   2806  [Even in the absence of external stimulation, ...   \n",
       "459     2689   2840  [One recent study reported that when ongoing p...   \n",
       "481     2711   2862  [In a world constantly in flux, we are faced w...   \n",
       "\n",
       "                                      authors        date  \\\n",
       "0                              [Rufin Vogels]  2011/09/01   \n",
       "82          [Chia-Ching Wu, Chien-Chung Chen]  2011/09/01   \n",
       "425                              [Hakwan Lau]  2011/09/01   \n",
       "459             [Hakwan Lau, Dobromir Rahnev]  2011/09/01   \n",
       "481  [Jacqueline M. Fulvio, Paul R. Schrater]  2011/09/01   \n",
       "\n",
       "                                                 title  year  \\\n",
       "0                                    Symposium Summary  2011   \n",
       "82   The integration of color information in symmet...  2011   \n",
       "425                                  Symposium Summary  2011   \n",
       "459  The paradoxical negative relationship between ...  2011   \n",
       "481                                  Symposium Summary  2011   \n",
       "\n",
       "                                              abstract  \n",
       "0    Neural responses in many visual areas are usua...  \n",
       "82   To perceive a symmetry pattern, the observer h...  \n",
       "425  Even in the absence of external stimulation, t...  \n",
       "459  One recent study reported that when ongoing pr...  \n",
       "481  In a world constantly in flux, we are faced wi...  "
      ]
     },
     "execution_count": 83,
     "metadata": {},
     "output_type": "execute_result"
    }
   ],
   "source": [
    "df_rep[df_rep.year == '2011'].head()"
   ]
  },
  {
   "cell_type": "code",
   "execution_count": 50,
   "metadata": {
    "collapsed": false
   },
   "outputs": [
    {
     "name": "stdout",
     "output_type": "stream",
     "text": [
      "[359, 535, 609, 624, 693, 643, 678, 734, 723, 851, 807, 823, 820, 866]\n"
     ]
    },
    {
     "data": {
      "image/png": "[encoded data removed]",
      "text/plain": [
       "<matplotlib.figure.Figure at 0x111a0add0>"
      ]
     },
     "metadata": {},
     "output_type": "display_data"
    }
   ],
   "source": [
    "#number of unique last authors each year\n",
    "u_last_authors = []\n",
    "for day in range(2001, 2015):\n",
    "    templist = df[df.year == str(day)][\"authors\"].tolist()\n",
    "    #flatten it\n",
    "    templist2 = []\n",
    "    #replace names\n",
    "    for i in templist:\n",
    "        if i[len(i) - 1] in name_dict.keys():\n",
    "            templist2.append(name_dict[i[len(i) - 1]])\n",
    "        else:\n",
    "            templist2.append(i[len(i) - 1])\n",
    "    templist2 = list(set(templist2))\n",
    "    u_last_authors.append([day, templist2])\n",
    "    \n",
    "#graph it\n",
    "u_aut_num = []\n",
    "u_aut_yr = []\n",
    "for i in u_last_authors:\n",
    "    u_aut_yr.append(int(i[0]))\n",
    "    u_aut_num.append(len(i[1]))\n",
    "\n",
    "plt.bar(u_aut_yr,u_aut_num)\n",
    "plt.xlabel(\"year\")\n",
    "plt.ylabel(\"number of unique last authors\")\n",
    "print u_aut_num"
   ]
  },
  {
   "cell_type": "code",
   "execution_count": 53,
   "metadata": {
    "collapsed": false
   },
   "outputs": [
    {
     "data": {
      "text/plain": [
       "(array([ 2722.,   589.,   269.,   168.,    96.,    85.,    87.,    64.,\n",
       "           45.,    41.,    35.,    36.,    29.,    19.]),\n",
       " array([ 1,  2,  3,  4,  5,  6,  7,  8,  9, 10, 11, 12, 13, 14, 15]),\n",
       " <a list of 14 Patch objects>)"
      ]
     },
     "execution_count": 53,
     "metadata": {},
     "output_type": "execute_result"
    },
    {
     "data": {
      "image/png": "[encoded data removed]",
      "text/plain": [
       "<matplotlib.figure.Figure at 0x111fb6810>"
      ]
     },
     "metadata": {},
     "output_type": "display_data"
    }
   ],
   "source": [
    "#see how many times each last author goes over all years\n",
    "\n",
    "all_last_auts = list(set(sum([y for x, y in u_last_authors])))\n",
    "\n",
    "last_aut_hist = []\n",
    "for i in all_last_auts:\n",
    "    ct = 0\n",
    "    for day, autlist in u_last_authors:\n",
    "        if i in autlist:\n",
    "            ct = ct + 1\n",
    "    last_aut_hist.append(ct)\n",
    "plt.hist(last_aut_hist, bins=range(min(last_aut_hist), max(last_aut_hist) + 2, 1\n",
    "                                       ))"
   ]
  },
  {
   "cell_type": "code",
   "execution_count": 12,
   "metadata": {
    "collapsed": false
   },
   "outputs": [],
   "source": [
    "#% of returns\n",
    "\n",
    "#list of all unique authors\n",
    "\n",
    "temp_aut_list = []\n",
    "for i in unique_authors:\n",
    "    temp_aut_list = temp_aut_list + i[1]\n",
    "authors_allyears = list(set(temp_aut_list))\n",
    "\n",
    "list_aut_years = []\n",
    "\n",
    "for i in authors_allyears:\n",
    "    templist = []\n",
    "    for j in unique_authors:\n",
    "        if i in j[1]:\n",
    "            templist.append(j[0])\n",
    "    list_aut_years.append([i, templist])\n"
   ]
  },
  {
   "cell_type": "code",
   "execution_count": 18,
   "metadata": {
    "collapsed": false
   },
   "outputs": [
    {
     "name": "stdout",
     "output_type": "stream",
     "text": [
      "14\n"
     ]
    },
    {
     "data": {
      "text/plain": [
       "<matplotlib.text.Text at 0x112f59b10>"
      ]
     },
     "execution_count": 18,
     "metadata": {},
     "output_type": "execute_result"
    },
    {
     "data": {
      "image/png": "[encoded data removed]",
      "text/plain": [
       "<matplotlib.figure.Figure at 0x112e9d1d0>"
      ]
     },
     "metadata": {},
     "output_type": "display_data"
    }
   ],
   "source": [
    "#Visits/per author \n",
    "hist_visit_per_aut = []\n",
    "for i in list_aut_years:\n",
    "    hist_visit_per_aut.append(len(i[1]))\n",
    "    \n",
    "\n",
    "plt.hist(hist_visit_per_aut, bins=range(min(hist_visit_per_aut), max(hist_visit_per_aut) + 2, 1\n",
    "                                       ))\n",
    "plt.xlabel(\"number of visits\")\n",
    "plt.ylabel(\"number of authors\")\n",
    "    "
   ]
  },
  {
   "cell_type": "code",
   "execution_count": 11,
   "metadata": {
    "collapsed": false
   },
   "outputs": [],
   "source": [
    "#2. Productivity of people. Who was most productive, increased the most/year, etc.\n",
    "#%Reappearances\n",
    "list_auts_change = []\n",
    "for i in authors_allyears:\n",
    "    yearlist = []\n",
    "    freqlist = []\n",
    "    for j in list_auts_freq:\n",
    "        for k in j[1]:\n",
    "            if i == k[0]:\n",
    "                freqlist.append(k[1])\n",
    "                yearlist.append(int(j[0]))\n",
    "            \n",
    "    list_auts_change.append([i, yearlist, freqlist])"
   ]
  },
  {
   "cell_type": "code",
   "execution_count": 12,
   "metadata": {
    "collapsed": false
   },
   "outputs": [
    {
     "name": "stdout",
     "output_type": "stream",
     "text": [
      "['Allison B. Sekuler', 114]\n"
     ]
    },
    {
     "data": {
      "image/png": "[encoded data removed]",
      "text/plain": [
       "<matplotlib.figure.Figure at 0x114b9bb10>"
      ]
     },
     "metadata": {},
     "output_type": "display_data"
    }
   ],
   "source": [
    "#most productive authors \n",
    "\n",
    "#(total # abstracts over all years)\n",
    "aut_freq_hist = []\n",
    "\n",
    "for i in list_auts_change:\n",
    "    aut_freq_hist.append(sum(i[2]))\n",
    "a = numpy.array(aut_freq_hist)\n",
    "freq_index = heapq.nlargest(len(authors_allyears), range(len(a)), a.take)\n",
    "\n",
    "#authors name + total abstracts\n",
    "coll_list = []\n",
    "for i in freq_index:\n",
    "    coll_list.append([list_auts_change[i][0], aut_freq_hist[i]]) \n",
    "\n",
    "for i in list_auts_change:\n",
    "    if i[0] == \"Allison B. Sekuler\":\n",
    "         \n",
    "        aut_yr = []\n",
    "        for j in i[1]:\n",
    "            aut_yr.append(int(j))\n",
    "        plt.bar(aut_yr,i[2] )\n",
    "\n",
    "print coll_list[0]"
   ]
  },
  {
   "cell_type": "code",
   "execution_count": null,
   "metadata": {
    "collapsed": false
   },
   "outputs": [],
   "source": [
    "#Are more productive authors also more collaborative? #collaborators/abstract \n",
    "ct = 0 \n",
    "for i in coll_list:\n",
    "    num_col = 0 \n",
    "    #for j in range(len(df)):\n",
    "    for j in df2[df2.authors == i[0]].title:\n",
    "        num_col = num_col + len(df2[df2.title == j])\n",
    "    i.append(num_col*1.0/i[1])\n",
    "    ct = ct + 1\n",
    "    if ct%1000 == 0:\n",
    "        print ct\n"
   ]
  },
  {
   "cell_type": "code",
   "execution_count": 94,
   "metadata": {
    "collapsed": false
   },
   "outputs": [
    {
     "data": {
      "text/plain": [
       "<matplotlib.collections.PathCollection at 0x29a5eb4d0>"
      ]
     },
     "execution_count": 94,
     "metadata": {},
     "output_type": "execute_result"
    },
    {
     "data": {
      "image/png": "[encoded data removed]",
      "text/plain": [
       "<matplotlib.figure.Figure at 0x28cd7ca50>"
      ]
     },
     "metadata": {},
     "output_type": "display_data"
    }
   ],
   "source": [
    "coll_x = []\n",
    "coll_y = []\n",
    "\n",
    "for i in coll_list:\n",
    "    coll_x.append(i[1])\n",
    "    coll_y.append(i[2])\n",
    "plt.scatter(coll_x, coll_y)\n"
   ]
  },
  {
   "cell_type": "code",
   "execution_count": 143,
   "metadata": {
    "collapsed": false
   },
   "outputs": [
    {
     "name": "stdout",
     "output_type": "stream",
     "text": [
      "200\n",
      "400\n",
      "600\n",
      "800\n",
      "1000\n",
      "1200\n",
      "1400\n",
      "1600\n",
      "1800\n",
      "2000\n"
     ]
    }
   ],
   "source": [
    "#Are more productive people more likely to collaborate with new people each year? \n",
    "tt = 0\n",
    "new_collabs = []\n",
    "for i in [x for x, y,z in coll_list[:2000]]:\n",
    "    colls_all = []\n",
    "    for j in df2[df2.authors == i].title:\n",
    "        colls_all.append([int(list(set(df2[df2.title == j].year.tolist()))[0]), df2[df2.title == j].authors.tolist()])\n",
    "    #this gets list of [year, collabs]\n",
    "    colls_edit = []\n",
    "    colls_yr = sorted(map(int, list((set(df2[df2.authors == i].year.tolist())))))\n",
    "    for j in colls_yr:\n",
    "        templist = []\n",
    "        for k in colls_all:\n",
    "            if k[0] == j:\n",
    "                templist = templist + k[1]\n",
    "        colls_edit.append([j, set(templist) - set(i)])\n",
    "    #get only new collaborators each year \n",
    "    for j in range(len(colls_yr)):\n",
    "        for k in range(0, j):\n",
    "            colls_edit[j][1] = colls_edit[j][1] - colls_edit[k][1]\n",
    "    new_collabs.append(sum([len(y) for x, y in colls_edit])*1.0/len(colls_edit))\n",
    "    tt = tt + 1\n",
    "    if tt%200 == 0:\n",
    "        print tt\n",
    "    \n",
    "    \n",
    "                \n",
    "#the min abstracts/author found is 5\n",
    " \n"
   ]
  },
  {
   "cell_type": "code",
   "execution_count": 160,
   "metadata": {
    "collapsed": false
   },
   "outputs": [
    {
     "data": {
      "text/plain": [
       "[0, 120, 0, 10]"
      ]
     },
     "execution_count": 160,
     "metadata": {},
     "output_type": "execute_result"
    },
    {
     "data": {
      "image/png": "[encoded data removed]",
      "text/plain": [
       "<matplotlib.figure.Figure at 0x281d7cf50>"
      ]
     },
     "metadata": {},
     "output_type": "display_data"
    }
   ],
   "source": [
    "#plt.scatter(coll_x[:2000], new_collabs)\n",
    "\n",
    "#only graph if submitted more than 20\n",
    "\n",
    "colls_bin = []\n",
    "for j in [40, 60, 80, 100, 120]:\n",
    "    coll_ind =[]\n",
    "    ct = 0\n",
    "    for i in coll_x[:2000]:\n",
    "        if i > j - 20 and i <= j:\n",
    "            coll_ind.append(ct)\n",
    "        ct = ct + 1\n",
    "    colls_bin.append([sum([new_collabs[i] for i in coll_ind])*1.0/len(coll_ind), np.std(np.array([new_collabs[i] for i in coll_ind]))]) \n",
    "\n",
    "plt.errorbar([20, 40, 60, 80, 100], [x for x, y in colls_bin], yerr = [y for x, y in colls_bin])\n",
    "        \n",
    "plt.axis([0, 120, 0, 10])"
   ]
  },
  {
   "cell_type": "code",
   "execution_count": 148,
   "metadata": {
    "collapsed": false
   },
   "outputs": [
    {
     "name": "stdout",
     "output_type": "stream",
     "text": [
      "5\n"
     ]
    }
   ],
   "source": [
    "print min(coll_x[:2000])"
   ]
  },
  {
   "cell_type": "markdown",
   "metadata": {},
   "source": [
    "## Popular phrases across all titles"
   ]
  },
  {
   "cell_type": "code",
   "execution_count": null,
   "metadata": {
    "collapsed": false
   },
   "outputs": [],
   "source": [
    "\n",
    "#test: find popular phrases in ALL titles, no normalization\n",
    "passage = df.title\n",
    "passage2 = passage.str.cat(sep=\" \")\n",
    "passage2 = passage2.encode('unicode_escape').encode('ascii','ignore')\n",
    "\n",
    "tok = nltk.word_tokenize(passage2.lower())\n",
    "tok2 = list(nltk.bigrams(tok))\n",
    "tok3 = list(nltk.trigrams(tok))\n",
    "\n",
    "tok2test = []\n",
    "tok3test = []\n",
    "\n",
    "for i in tok2:\n",
    "    count = 0\n",
    "    for j in wordlist:\n",
    "        if j in i:\n",
    "            count = count + 1\n",
    "    if count == 0:\n",
    "        tok2test.append(i)\n",
    "\n",
    "#test: sorts the words from ALL titles into order\n",
    "passage = df.title.str.cat(sep=' ') #this specifies to treat titles as 'str' and the concat all cells with a space separating\n",
    "words = re.findall(r'\\w+', passage)\n",
    "cap_words = [word.upper() for word in words]\n",
    "word_counts = Counter(cap_words)\n",
    "\n",
    "sorted_wc = sorted(word_counts.items(), key=operator.itemgetter(1), reverse = True)\n"
   ]
  },
  {
   "cell_type": "markdown",
   "metadata": {},
   "source": [
    "# Break down titles and abstracts by year \n",
    "- finds the most frequent 1000 words for titles and abstracts\n",
    "- finds the most frequent 2-word phrases for titles and abstracts\n",
    "- filter: does not count words and phrases with words that appear in the wordlist above"
   ]
  },
  {
   "cell_type": "code",
   "execution_count": 7,
   "metadata": {
    "collapsed": false,
    "scrolled": false
   },
   "outputs": [],
   "source": [
    "#top 1000 words by year, and article number per year, using titles  \n",
    "articles_year = {}\n",
    "words_year = []\n",
    "for i in range(2001, 2015):\n",
    "    df_temp = df[df.year == str(i)]\n",
    "    articles_year[i] = len(df_temp)\n",
    "    passage_temp = df_temp.title.str.cat(sep=' ')\n",
    "    words_temp = re.findall(r'\\w+', passage_temp)\n",
    "    cap_words_temp = [word.upper() for word in words_temp]\n",
    "    word_counts_temp = Counter(cap_words_temp)\n",
    "    sorted_wc_temp = sorted(word_counts_temp.items(), key=operator.itemgetter(1), reverse = True)\n",
    "    ctt = 0\n",
    "    ctt2 = 0\n",
    "    temp20 = []\n",
    "    \n",
    "    while ctt2 < len(sorted_wc_temp) and ctt < 1000:\n",
    "        if len(sorted_wc_temp[ctt2][0]) > 3:\n",
    "            temp20.append([str(sorted_wc_temp[ctt2][0]), sorted_wc_temp[ctt2][1]])\n",
    "            ctt = ctt + 1\n",
    "        ctt2 = ctt2 + 1\n",
    "    words_year.append( [i, temp20])"
   ]
  },
  {
   "cell_type": "code",
   "execution_count": 8,
   "metadata": {
    "collapsed": false
   },
   "outputs": [],
   "source": [
    "#ABSTRACT: top 1000 words by year\n",
    "at_words_year = []\n",
    "for i in range(2001, 2015):\n",
    "    df_temp = df[df.year == str(i)]\n",
    "    passage_temp = df_temp.abstract.str.cat(sep=' ')\n",
    "    words_temp = re.findall(r'\\w+', passage_temp)\n",
    "    cap_words_temp = [word.upper() for word in words_temp]\n",
    "    word_counts_temp = Counter(cap_words_temp)\n",
    "    sorted_wc_temp = sorted(word_counts_temp.items(), key=operator.itemgetter(1), reverse = True)\n",
    "    ctt = 0\n",
    "    ctt2 = 0\n",
    "    temp20 = []\n",
    "    while ctt2 < len(sorted_wc_temp) and ctt < 1000:\n",
    "        if len(sorted_wc_temp[ctt2][0]) > 3 and sorted_wc_temp[ctt2][0].lower() not in wordlist:\n",
    "            temp20.append([str(sorted_wc_temp[ctt2][0]), sorted_wc_temp[ctt2][1]])\n",
    "            ctt = ctt + 1\n",
    "        ctt2 = ctt2 + 1\n",
    "    at_words_year.append( [i, temp20])\n",
    " "
   ]
  },
  {
   "cell_type": "code",
   "execution_count": 9,
   "metadata": {
    "collapsed": false
   },
   "outputs": [],
   "source": [
    "#PHRASES, top 1000 phrases by year in abstracts \n",
    "phrases_year = []\n",
    "for i in range(2001, 2015):\n",
    "    df_temp = df[df.year == str(i)]\n",
    "    passage_temp = df_temp.abstract.str.cat(sep=' ')\n",
    "    passage_temp = passage_temp.decode('unicode_escape').encode('ascii','ignore')\n",
    "    tok2 = nltk.word_tokenize(passage_temp.lower())\n",
    "    tok2 = list(nltk.bigrams(tok2))\n",
    "    tok2test = []\n",
    "    for m in tok2:\n",
    "        count = 0\n",
    "        for j in wordlist:\n",
    "            if j in m:\n",
    "                count = count + 1\n",
    "        if count == 0:\n",
    "            tok2test.append(m)\n",
    "        \n",
    "    phrases_year.append([i, Counter(tok2test).most_common(1000)])\n"
   ]
  },
  {
   "cell_type": "code",
   "execution_count": null,
   "metadata": {
    "collapsed": false
   },
   "outputs": [],
   "source": [
    "#PHRASES, top 1000 phrases by year in titles\n",
    "#can't run 1000 phrases in title or 1000 phrases in abstracts simultaneously!\n",
    "'''\n",
    "phrases_year = []\n",
    "for i in range(2001, 2015):\n",
    "    df_temp = df[df.year == str(i)]\n",
    "    passage_temp = df_temp.title.str.cat(sep=\" \")\n",
    "    passage_temp = passage_temp.encode('unicode_escape').encode('ascii','ignore')\n",
    "    tok2 = nltk.word_tokenize(passage_temp.lower())\n",
    "    tok2 = list(nltk.bigrams(tok2))\n",
    "    tok2test = []\n",
    "    for m in tok2:\n",
    "        count = 0\n",
    "        for j in wordlist:\n",
    "            if j in m:\n",
    "                count = count + 1\n",
    "        if count == 0:\n",
    "            tok2test.append(m)\n",
    "        \n",
    "    phrases_year.append([i, Counter(tok2test).most_common(1000)])\n",
    "'''"
   ]
  },
  {
   "cell_type": "markdown",
   "metadata": {},
   "source": [
    "## Create dictionaries \n",
    "- lists all the words (and phrases) across all years "
   ]
  },
  {
   "cell_type": "code",
   "execution_count": 10,
   "metadata": {
    "collapsed": false,
    "scrolled": false
   },
   "outputs": [],
   "source": [
    "#generates massive list of top 1000 words (top 1000 phrases) from each year\n",
    "#duplicates removed \n",
    "'''\n",
    "words_allyears = []\n",
    "for i in words_year:\n",
    "    for j in range(1000):\n",
    "        if i[1][j][0] not in words_allyears:\n",
    "            words_allyears.append(i[1][j][0])\n",
    "'''\n",
    "at_words_allyears = []\n",
    "for i in at_words_year:\n",
    "    for j in range(1000):\n",
    "        if i[1][j][0] not in at_words_allyears:\n",
    "            at_words_allyears.append(i[1][j][0])\n",
    "\n",
    "\n",
    "phrases_allyears = []\n",
    "for i in phrases_year:\n",
    "    for j in range(1000):\n",
    "        if i[1][j][0] not in phrases_allyears:\n",
    "            phrases_allyears.append(i[1][j][0])\n",
    "          "
   ]
  },
  {
   "cell_type": "markdown",
   "metadata": {},
   "source": [
    "## Methods for finding normalized frequencies of words and frequencies from each year (for later)"
   ]
  },
  {
   "cell_type": "code",
   "execution_count": 11,
   "metadata": {
    "collapsed": false
   },
   "outputs": [],
   "source": [
    "#generates list of years and corresponding word count \n",
    "\n",
    "def word_change(word):\n",
    "    ly = []\n",
    "    for year in words_year:\n",
    "        for i in range(1000): \n",
    "            if year[1][i][0] == word:\n",
    "                ly.append([year[0], year[1][i][1]*1.00/articles_year[year[0]]])\n",
    "    return ly \n",
    "\n",
    "def at_word_change(word):\n",
    "    ly = []\n",
    "    for year in at_words_year:\n",
    "        for i in range(1000): \n",
    "            if year[1][i][0] == word:\n",
    "                ly.append([year[0], year[1][i][1]*1.00/articles_year[year[0]]])\n",
    "    return ly \n",
    "#a phrase is a list of tokens\n",
    "def phrase_change(phrase):\n",
    "    ly = []\n",
    "    for year in phrases_year:\n",
    "        for i in range(1000):\n",
    "            if year[1][i][0] == phrase:\n",
    "                ly.append([year[0], year[1][i][1]*1.00/articles_year[year[0]]])\n",
    "    return ly\n"
   ]
  },
  {
   "cell_type": "markdown",
   "metadata": {},
   "source": [
    "# Phrases and COCA\n",
    "- finds phrases in COCA and phrases unique to VSS \n",
    "- uses 'human brain' as the cutoff above which phrases will not be considered\n",
    "- creates a new list, union_list, that can be used in replacement of phrases_allyears"
   ]
  },
  {
   "cell_type": "code",
   "execution_count": 14,
   "metadata": {
    "collapsed": false
   },
   "outputs": [],
   "source": [
    "#compares phrases from abstracts with those in the 2gramcounts data frame\n",
    "preset = []\n",
    "for i in phrases_allyears:\n",
    "    preset.append(i[0] + ' ' + i[1])\n",
    "\n",
    "set_2grams = set(filegram_list)\n",
    "set_VSS = set(preset)\n",
    "#phrases (in token form) unique to VSS\n",
    "set_diff = set_VSS - set_2grams\n"
   ]
  },
  {
   "cell_type": "code",
   "execution_count": null,
   "metadata": {
    "collapsed": false
   },
   "outputs": [],
   "source": [
    "#saves the unique to VSS phrases in csv \n",
    "with open('VSSphrases.csv', 'wb') as csvfile:\n",
    "    spamwriter = csv.writer(csvfile, delimiter=' ',\n",
    "                             quoting=csv.QUOTE_MINIMAL)\n",
    "    for i in set_diff:\n",
    "        spamwriter.writerow(i)    "
   ]
  },
  {
   "cell_type": "code",
   "execution_count": 15,
   "metadata": {
    "collapsed": false
   },
   "outputs": [
    {
     "data": {
      "text/html": [
       "<div>\n",
       "<table border=\"1\" class=\"dataframe\">\n",
       "  <thead>\n",
       "    <tr style=\"text-align: right;\">\n",
       "      <th></th>\n",
       "      <th>3</th>\n",
       "      <th>0</th>\n",
       "      <th>1</th>\n",
       "      <th>2</th>\n",
       "    </tr>\n",
       "  </thead>\n",
       "  <tbody>\n",
       "    <tr>\n",
       "      <th>0</th>\n",
       "      <td>low vision</td>\n",
       "      <td>low</td>\n",
       "      <td>vision</td>\n",
       "      <td>1541</td>\n",
       "    </tr>\n",
       "    <tr>\n",
       "      <th>1</th>\n",
       "      <td>relative strength</td>\n",
       "      <td>relative</td>\n",
       "      <td>strength</td>\n",
       "      <td>99</td>\n",
       "    </tr>\n",
       "    <tr>\n",
       "      <th>2</th>\n",
       "      <td>similar pattern</td>\n",
       "      <td>similar</td>\n",
       "      <td>pattern</td>\n",
       "      <td>281</td>\n",
       "    </tr>\n",
       "    <tr>\n",
       "      <th>3</th>\n",
       "      <td>early vision</td>\n",
       "      <td>early</td>\n",
       "      <td>vision</td>\n",
       "      <td>1</td>\n",
       "    </tr>\n",
       "    <tr>\n",
       "      <th>4</th>\n",
       "      <td>concentric rings</td>\n",
       "      <td>concentric</td>\n",
       "      <td>rings</td>\n",
       "      <td>77</td>\n",
       "    </tr>\n",
       "  </tbody>\n",
       "</table>\n",
       "</div>"
      ],
      "text/plain": [
       "                   3           0         1     2\n",
       "0         low vision         low    vision  1541\n",
       "1  relative strength    relative  strength    99\n",
       "2    similar pattern     similar   pattern   281\n",
       "3       early vision       early    vision     1\n",
       "4   concentric rings  concentric     rings    77"
      ]
     },
     "execution_count": 15,
     "metadata": {},
     "output_type": "execute_result"
    }
   ],
   "source": [
    "#finds phrases shared by VSS and the 2gramcounts\n",
    "set_union = set_VSS - set_diff\n",
    "\n",
    "#change the shared VSS/2gramcounts phrases into its own dataframe\n",
    "union_merg = pd.DataFrame()\n",
    "union_merg[3] = list(set_union)\n",
    "union_merg.head()\n",
    "union_freq = pd.merge(union_merg, filegram, on = 3)\n",
    "union_freq.head()"
   ]
  },
  {
   "cell_type": "code",
   "execution_count": null,
   "metadata": {
    "collapsed": false,
    "scrolled": true
   },
   "outputs": [],
   "source": [
    "#plot distribution  \n",
    "plt.hist(union_freq[2].tolist())"
   ]
  },
  {
   "cell_type": "code",
   "execution_count": 16,
   "metadata": {
    "collapsed": false
   },
   "outputs": [
    {
     "name": "stdout",
     "output_type": "stream",
     "text": [
      "people who 68876\n",
      "those who 50086\n",
      "last year 47516\n",
      "first time 40396\n",
      "same time 31334\n",
      "its own 28601\n",
      "years old 22606\n",
      "so far 22218\n",
      "other hand 20115\n",
      "picked up 15839\n",
      "one another 15252\n",
      "do so 14634\n",
      "other words 14449\n",
      "pick up 14244\n",
      "other side 14090\n",
      "some kind 12308\n",
      "who did 12153\n",
      "just one 11607\n",
      "what happens 11140\n",
      "one hand 10919\n",
      "2602\n",
      "4357\n"
     ]
    }
   ],
   "source": [
    "#gets 20 most frequent phrases in the union with 2grams, and filters out words with \n",
    "#frequencies larger than 565\n",
    "a = numpy.array(union_freq[2].tolist())\n",
    "union_list = []\n",
    "phrase_union_index_large = heapq.nlargest(20, range(len(a)), a.take)\n",
    "for i in phrase_union_index_large:\n",
    "    print union_freq[3][i], union_freq[2][i]\n",
    "#sort phrases by smallest to largest frequencies  \n",
    "phrase_union_index_small = heapq.nsmallest(len(union_freq[2]), range(len(a)), a.take)\n",
    "\n",
    "for i in phrase_union_index_small:\n",
    "    if union_freq[2][i] < 565:\n",
    "        union_list.append((union_freq[3][i].split(\" \")[0], union_freq[3][i].split(\" \")[1]) \n",
    "                         )\n",
    "print len(union_list)\n",
    "#adds the set_diff back into the COCA-filtered union_list \n",
    "for i in list(set_diff):\n",
    "    union_list.append((i.split(' ')[0], i.split(' ')[1]))\n",
    "print len(union_list)\n",
    "#union_list is the new phrases_allyears"
   ]
  },
  {
   "cell_type": "markdown",
   "metadata": {},
   "source": [
    "# Phrase network\n",
    "- Based on x most connected phrases "
   ]
  },
  {
   "cell_type": "code",
   "execution_count": null,
   "metadata": {
    "collapsed": false
   },
   "outputs": [],
   "source": [
    "phrases_allyears = union_list\n",
    "\n",
    "#create a list of all the words \n",
    "\n",
    "words_from_p = []\n",
    "for i in phrases_allyears:\n",
    "    words_from_p.append(i[0])\n",
    "    words_from_p.append(i[1])\n",
    "\n",
    "words_from_psort =  sorted(Counter(words_from_p).items(), key=operator.itemgetter(1), reverse = True)\n",
    "#if connected to more than 20 phrases, include it in initial network\n",
    "\n",
    "#create a list of all the words in these phrases; these are the initial nodes \n",
    "pword = []\n",
    "\n",
    "for i in words_from_psort:\n",
    "    if i[1] > 60:\n",
    "        pword.append(i[0]) \n",
    "    else:\n",
    "        break\n",
    "\n",
    "#create a graph\n",
    "G_phrase = nx.Graph()\n",
    "nonused = []\n",
    "#add edges to G_phrase! \n",
    "for i in phrases_allyears:\n",
    "    if i[0] in pword and i[1] in pword:\n",
    "        G_phrase.add_edge(i[0], i[1])\n",
    "    elif i[0] in pword:\n",
    "        G_phrase.add_edge(i[0], i[1])\n",
    "    elif i[1] in pword:\n",
    "        G_phrase.add_edge(i[0], i[1])\n",
    "    else:\n",
    "        nonused.append(i)\n",
    "        \n",
    "nx.draw_circular(G_phrase)\n",
    "plt.show()\n",
    "\n",
    "list_nodes = G_phrase.nodes()\n",
    "list_edges = [('Source', 'Target')] + G_phrase.edges()\n",
    "print list_edges[:10]"
   ]
  },
  {
   "cell_type": "code",
   "execution_count": null,
   "metadata": {
    "collapsed": false
   },
   "outputs": [],
   "source": [
    "with open('listedges.csv', 'wb') as csvfile:\n",
    "    spamwriter = csv.writer(csvfile, delimiter=' ',\n",
    "                             quoting=csv.QUOTE_MINIMAL)\n",
    "    for i in list_edges:\n",
    "        spamwriter.writerow(i)"
   ]
  },
  {
   "cell_type": "markdown",
   "metadata": {},
   "source": [
    "# Abstract similarity and clustering\n",
    "- using the dictionary words_allyears\n",
    "    - looks at each abstract \n",
    "    - create a vector of len(words_allyears): if word in words_allyears appears in the abstract, append 1 to the vector; else 0  \n",
    "    - clusters (8) across all years, then takes by 2001 and clusters (8)\n",
    "    - also calculates average similarity and stdev by year, for each year, based on average distance between vector pairs of that year: finds no sig changes\n",
    "- using the dictionary phrases_allyears\n",
    "    - not working yet, but seems incredibly sparse so far "
   ]
  },
  {
   "cell_type": "code",
   "execution_count": null,
   "metadata": {
    "collapsed": false,
    "scrolled": true
   },
   "outputs": [],
   "source": [
    "#Similarity between abstracts, using words / phrases\n",
    "#generate a vector for every abstract \n",
    "union_list = phrases_allyears\n",
    "all_vecs = []\n",
    "for i in range(len(df)):\n",
    "    '''\n",
    "    art = df[\"abstract\"][i]\n",
    "    #words\n",
    "    words_temp = re.findall(r'\\w+', art)\n",
    "    cap_words_temp = [word.upper() for word in words_temp]\n",
    "    word_counts_temp = Counter(cap_words_temp)\n",
    "    sorted_wc_temp = sorted(word_counts_temp.items(), key=operator.itemgetter(1), reverse = True)\n",
    "    temp20 = []\n",
    "    ctt2 = 0\n",
    "    ctt =0\n",
    "    \n",
    "    for j in sorted_wc_temp:\n",
    "        temp20.append(str(j[0]))  \n",
    "\n",
    "    vect = []\n",
    "    for j in at_words_allyears:\n",
    "        if j in temp20:\n",
    "            vect.append(1)\n",
    "        else:\n",
    "            vect.append(0)\n",
    "    \n",
    "    '''\n",
    "      \n",
    "    df_temp = df[df.index == i]\n",
    "    passage_temp = df_temp.abstract.str.cat(sep=' ')\n",
    "    passage_temp = passage_temp.encode('unicode_escape').encode('ascii','ignore')\n",
    "    #passage_temp = df_temp.abstract.str.cat(sep=' ')\n",
    "    tok2 = nltk.word_tokenize(str(passage_temp.lower()))\n",
    "    tok2 = list(nltk.bigrams(tok2))\n",
    "     \n",
    "    vect = []\n",
    "     \n",
    "    for j in union_list:\n",
    "        if j in tok2:\n",
    "            vect.append(1)\n",
    "        else:\n",
    "            vect.append(0)\n",
    "    \n",
    "    all_vecs.append(np.array(vect)) \n",
    "    if i%1000 == 0:\n",
    "        print i\n",
    "   \n",
    "#tds = TfidfVectorizer(df[\"abstract\"][1], stop_words = 'english')\n",
    "#tds = tds.fit_transform(nltk.word_tokenize(df[\"abstract\"][1]))\n",
    "#print tds "
   ]
  },
  {
   "cell_type": "code",
   "execution_count": null,
   "metadata": {
    "collapsed": false
   },
   "outputs": [],
   "source": [
    "#try k-means clustering\n",
    "all_vecs_list = []\n",
    "for i in all_vecs:\n",
    "    all_vecs_list.append(i.tolist())\n",
    "all_vecs_arr = np.array(all_vecs_list)\n",
    "\n",
    "#create a KMeans object\n",
    "kmeans1 = sk.KMeans()\n",
    "y = kmeans1.fit_predict(all_vecs_arr)\n"
   ]
  },
  {
   "cell_type": "code",
   "execution_count": null,
   "metadata": {
    "collapsed": false
   },
   "outputs": [],
   "source": [
    "#8 categories \n",
    "\n",
    "x = Counter(y)\n",
    "print x\n",
    "print kmeans1.cluster_centers_\n",
    "'''\n",
    "#rough check of clustering by grabbing several titles from each cluster\n",
    "for i in range(0, 8):\n",
    "    ct = 0\n",
    "    print i\n",
    "    ct2 = 0 \n",
    "    while ct < 5:\n",
    "        if y[ct2] == i:\n",
    "            print df.title[ct2]\n",
    "            ct = ct + 1\n",
    "        ct2 = ct2 + 1\n",
    "'''"
   ]
  },
  {
   "cell_type": "code",
   "execution_count": null,
   "metadata": {
    "collapsed": false
   },
   "outputs": [],
   "source": [
    "#cluster the abstracts from 2001\n",
    "#from each cluster, look for \"keywords\"\n",
    "vecs_2001_arr = all_vecs_arr[:articles_year[2001]]\n",
    "\n",
    "kmeans2001 = sk.KMeans(init = 'k-means++')\n",
    "y2001 = kmeans2001.fit_predict(vecs_2001_arr)\n",
    "x2001 = Counter(y2001)\n",
    "print x2001\n",
    "   "
   ]
  },
  {
   "cell_type": "code",
   "execution_count": null,
   "metadata": {
    "collapsed": false
   },
   "outputs": [],
   "source": [
    "num_clusters = 8\n",
    "words_cstr = []\n",
    "#look for the keywords\n",
    "\n",
    "for cstr in range(0, num_clusters):\n",
    "    abs_concat = \"\"\n",
    "    for i in range(0, len(y2001)):\n",
    "        if y2001[i] == cstr:\n",
    "            abs_concat = abs_concat + \" \" + df.abstract[i]\n",
    "    \n",
    "    words_temp = re.findall(r'\\w+', abs_concat)\n",
    "    cap_words_temp = [word.upper() for word in words_temp]\n",
    "    word_counts_temp = Counter(cap_words_temp)\n",
    "    sorted_wc_temp = sorted(word_counts_temp.items(), key=operator.itemgetter(1), reverse = True)\n",
    "    ctt = 0\n",
    "    ctt2 = 0\n",
    "    temp20 = []\n",
    "    \n",
    "    while ctt2 < len(sorted_wc_temp) and ctt < 1000:\n",
    "        if len(sorted_wc_temp[ctt2][0]) > 3 and sorted_wc_temp[ctt2][0].lower() not in wordlist:\n",
    "            temp20.append([str(sorted_wc_temp[ctt2][0]), sorted_wc_temp[ctt2][1]])\n",
    "            ctt = ctt + 1\n",
    "        ctt2 = ctt2 + 1\n",
    "    words_cstr.append( [cstr, temp20])\n",
    "    "
   ]
  },
  {
   "cell_type": "code",
   "execution_count": null,
   "metadata": {
    "collapsed": false,
    "scrolled": true
   },
   "outputs": [],
   "source": [
    "#roughly categorized by 'motion', 'faces', 'vision' + 'memory' ...\n",
    "print words_cstr[1][1][:20]\n",
    "\n",
    " "
   ]
  },
  {
   "cell_type": "code",
   "execution_count": null,
   "metadata": {
    "collapsed": false
   },
   "outputs": [],
   "source": [
    "#split 2001 in half, test distributions of first cluster with second cluster \n",
    "#first pass \n",
    "list0 = []\n",
    "\n",
    "for i in range(len(y2001)):\n",
    "    list0.append(int(rand()*2))\n",
    "split_list = []\n",
    "split_list_chk = []\n",
    "for i in range(len(y2001)):\n",
    "    if list0[i] == 1:\n",
    "        split_list.append(vecs_2001_arr[i])\n",
    "    else:\n",
    "        split_list_chk.append(vecs_2001_arr[i])\n",
    "kmeans2 = sk.KMeans(init = 'k-means++')\n",
    "ysplit = kmeans2.fit_predict(np.array(split_list))\n",
    "ysplit2 = kmeans2.predict(np.array(split_list_chk))\n",
    "\n",
    "ysplitct = sorted(Counter(ysplit).items(), key=operator.itemgetter(1), reverse = True)\n",
    "ysplitct2 = sorted(Counter(ysplit2).items(), key=operator.itemgetter(1), reverse= True)\n",
    "#cross-validation \n",
    "print ysplitct\n",
    "print ysplitct2"
   ]
  },
  {
   "cell_type": "code",
   "execution_count": null,
   "metadata": {
    "collapsed": false
   },
   "outputs": [],
   "source": [
    "#find distances between each vector pair, based on year \n",
    "dist_all_years = []\n",
    "pair_all_years = []\n",
    "avg_dist = []\n",
    "stdev_dist = []\n",
    "for i in range(2001, 2015):\n",
    "    print i \n",
    "    dist_yr = []\n",
    "    pair_yr = []\n",
    "    num_range = 0\n",
    "    if i == 2001:\n",
    "        num_range = 0\n",
    "    else:\n",
    "        for j in range(2001, i):\n",
    "            num_range = num_range + articles_year[j]\n",
    "    #print num_range\n",
    "    vecs_year = all_vecs_list[num_range: num_range + articles_year[i]]\n",
    "    nz_vecs = []\n",
    "    for j in vecs_year:\n",
    "        if np.linalg.norm(np.array(j)) != 0:\n",
    "            nz_vecs.append(j)\n",
    "     \n",
    "    #print len(nz_vecs)\n",
    "    for j in range(0, len(nz_vecs)):\n",
    "        for k in range(j + 1, len(nz_vecs)):\n",
    "            dist = np.linalg.norm(np.add(np.array(nz_vecs[j]), -1*np.array(nz_vecs[k])))\n",
    "            dist_yr.append(dist)\n",
    "            pair_yr.append([j,k,dist])\n",
    "        \n",
    "    dist_all_years.append(dist_yr)\n",
    "    pair_all_years.append(pair_yr)\n",
    "    avg_dist.append(sum(dist_yr)*1.0/len(dist_yr))\n",
    "    stdev_dist.append(np.std(np.array(dist_yr)))\n",
    "          "
   ]
  },
  {
   "cell_type": "code",
   "execution_count": null,
   "metadata": {
    "collapsed": false
   },
   "outputs": [],
   "source": [
    "print avg_dist\n",
    "print stdev_dist\n",
    "plt.errorbar(range(2001, 2015), avg_dist, stdev_dist)"
   ]
  },
  {
   "cell_type": "markdown",
   "metadata": {},
   "source": [
    "# Networks (not started)"
   ]
  },
  {
   "cell_type": "code",
   "execution_count": 38,
   "metadata": {
    "collapsed": false
   },
   "outputs": [
    {
     "name": "stdout",
     "output_type": "stream",
     "text": [
      "568\n"
     ]
    }
   ],
   "source": [
    "#pick one phrase, \"working memory\" that increased over the years \n",
    "#search for collaboration between the authors  \n",
    "wm_graph = nx.Graph()\n",
    "wm_sample = []\n",
    "wmct = 0\n",
    "for i in range(len(df.title)):\n",
    "    if \"working memory\" in df[\"abstract\"][i]:\n",
    "        wmct = wmct + 1\n",
    "        aut_temp = df[\"authors\"][i]\n",
    "        for m in range(len(aut_temp)):\n",
    "            if aut_temp[m] in name_dict.keys():\n",
    "                aut_temp[m] = name_dict[aut_temp[m]].encode(\"ascii\", \"ignore\")\n",
    "            else:\n",
    "                aut_temp[m]= aut_temp[m].encode(\"ascii\", \"ignore\")\n",
    "        \n",
    "        \n",
    "        for j in range(len(aut_temp)):\n",
    "            for k in range(j + 1, len(aut_temp)):\n",
    "                wm_sample.append([aut_temp[j], aut_temp[k],int(df[\"year\"][i])])\n",
    "    \n",
    "print wmct                "
   ]
  },
  {
   "cell_type": "code",
   "execution_count": 40,
   "metadata": {
    "collapsed": false
   },
   "outputs": [],
   "source": [
    "wm_graph_edlist = [('Source', 'Target', 0)] + wm_sample\n",
    "#nx.draw_spring(wm_graph)\n",
    "with open('listedges_wm.csv', 'wb') as csvfile:\n",
    "    spamwriter = csv.writer(csvfile, delimiter=' ',\n",
    "                             quoting=csv.QUOTE_MINIMAL)\n",
    "    for i in wm_graph_edlist:\n",
    "        spamwriter.writerow(i)"
   ]
  },
  {
   "cell_type": "code",
   "execution_count": null,
   "metadata": {
    "collapsed": false
   },
   "outputs": [],
   "source": [
    "df['dummy'] = 1\n",
    "\n",
    "empty_df =True\n",
    "df_final = ''\n",
    "\n",
    "for year in set(df.date):\n",
    "    print year\n",
    "    df_tmp = df[df.date == year]\n",
    "    \n",
    "    # You can make the co-author pivot table by year too\n",
    "    #dm = df_tmp.pivot(\"authors\", \"title\").fillna(0) #This doesn't work too well, use pivot table instead\n",
    "    dm = pd.pivot_table(df_tmp,index='authors',columns='title').fillna(0)\n",
    "    dout = dm.dummy.dot(dm.dummy.T)\n",
    "    dout.values[np.triu_indices_from(dout)] = 0\n",
    "    authornames = dout.columns\n",
    "    dout.insert(0, 'test', authornames)\n",
    "    dout = dout.reset_index()\n",
    "    dout = dout.ix[:,1:]\n",
    "    empty = True\n",
    "    df1 = ''\n",
    "    # Then, also cause the comptuye can't handle stacking all the authors, \n",
    "    # just break it down into smaller chunks of rows and stack the authors\n",
    "    # into athors pairs(Getting rid of nocollaborations)\n",
    "    for i in range(5):\n",
    "        tmp = dout[i*1000:(i+1)*1000]\n",
    "        tmp = tmp.set_index([\"test\"]).stack()\n",
    "        tmp = tmp.reset_index()\n",
    "        tmp = tmp.rename(columns={'test': 'Source', 'authors': 'Target', 0:'Weight'})\n",
    "        print tmp.shape\n",
    "        tmp = tmp[tmp.Weight > 0] #get rid of no edges\n",
    "        print tmp.shape\n",
    "        if empty:\n",
    "            df1 = tmp\n",
    "            empty = False\n",
    "        else:\n",
    "            df1 = pd.concat([df1,tmp]) ##add the stack to an empy df, to get eveyrhign in one place\n",
    "    df1 = df1.reset_index()\n",
    "    df1 = df1.drop('index',1)\n",
    "    # once you have the full stacked df of all author pairs for that year\n",
    "    # add it to another df until you get allt the years\n",
    "    if empty_df:\n",
    "        df1_final = df1\n",
    "        empty_df = False\n",
    "    else:\n",
    "        df1_final = df1_final.append(df1)\n",
    "\n",
    "## Then, average across years by source to target to get the relationship\n",
    "\n",
    "df1_final = df1_final.groupby(['Source','Target'])['Weight'].sum()\n",
    "df1_final = df1_final.reset_index()\n",
    "\n",
    "df1_final['Type'] = 'Undirected'\n",
    "\n",
    "print df1_final.sort('Weight')\n",
    "\n",
    "## Save the final dataFrame to a CSV file. This will be the Gephi input. \n",
    "print 'final shape',df1_final.shape\n",
    "df1_final.to_csv('gephi_formatted_network_newJOV.csv', encoding='utf-8')"
   ]
  },
  {
   "cell_type": "markdown",
   "metadata": {},
   "source": [
    "# Word and phrase frequency analysis \n",
    "\n",
    "## get normalized frequencies/year for words and phrases in the dictionary"
   ]
  },
  {
   "cell_type": "code",
   "execution_count": 13,
   "metadata": {
    "collapsed": false,
    "scrolled": true
   },
   "outputs": [
    {
     "name": "stdout",
     "output_type": "stream",
     "text": [
      "4627\n"
     ]
    }
   ],
   "source": [
    "#gets the change for the top 1000 words/year (top 1000 phrases/year), through all years\n",
    "'''\n",
    "list_words_change = []\n",
    "for i in words_allyears:\n",
    "    list_words_change.append([str(i), word_change(i)])\n",
    "'''\n",
    "at_list_words_change = []\n",
    "for i in at_words_allyears:\n",
    "    at_list_words_change.append([str(i), at_word_change(i)])\n",
    "\n",
    "\n",
    "#filter phrases: take the words from set_diff and the words from union\n",
    "#with frequency below 565 (\"human brain\" has frequency 564)\n",
    "#depending if using the filtered dictionary or not\n",
    "#phrases_allyears = union_list\n",
    "\n",
    "list_phrases_change = []\n",
    "for i in phrases_allyears:\n",
    "    list_phrases_change.append([i, phrase_change(i)])\n",
    "print len(list_phrases_change)\n"
   ]
  },
  {
   "cell_type": "code",
   "execution_count": null,
   "metadata": {
    "collapsed": false
   },
   "outputs": [],
   "source": [
    "#quick check: participants, observers, subjects used each year\n",
    "shortlst = []\n",
    "shortword = [\"OBSERVERS\", \"PARTICIPANTS\", \"PARTICIPANT\", \"SUBJECT\", \"SUBJECTS\"]\n",
    "for i in at_list_words_change:\n",
    "    if i[0] in shortword:\n",
    "        shortlst.append(i)\n",
    "    \n",
    "shortreorg = []\n",
    "for i in shortlst:\n",
    "    yrlist = []\n",
    "    freqlist = []\n",
    "    for j in i[1]:\n",
    "        yrlist.append(j[0])\n",
    "        freqlist.append(j[1])\n",
    "    shortreorg.append([i[0], yrlist, freqlist])\n",
    "for j in shortreorg:  \n",
    "    plt.plot( j[1], j[2], label = j[0])\n",
    "    plt.legend(loc = \"upper right\", bbox_to_anchor = (1.3, 0.8))       "
   ]
  },
  {
   "cell_type": "markdown",
   "metadata": {},
   "source": [
    "## analysis of phrases that came online \n",
    "- also looks at phrases that appeared 80-90% of the years after they came online"
   ]
  },
  {
   "cell_type": "code",
   "execution_count": null,
   "metadata": {
    "collapsed": false
   },
   "outputs": [],
   "source": [
    "#organize by phrases that came online\n",
    "phrases_online = []\n",
    "for yr in range(2001, 2015):\n",
    "    templist = []\n",
    "    for i in list_phrases_change:\n",
    "        if i[1][0][0] == yr:\n",
    "            templist.append(i)\n",
    "    phrases_online.append([yr,  templist])\n",
    "#print phrases_online[0][1]\n",
    "#histogram of phrases that were used n times from years 200x-2014 as [year, [#words appear once, twice... ]]\n",
    "hist = []\n",
    "for i in range(14):\n",
    "    p2007 = phrases_online[i][1]\n",
    "    #list of [year-after-2007, number-of-words]\n",
    "    on2007 = []\n",
    "    for j in range(1, 15 - i):\n",
    "        count  = 0\n",
    "        for k in p2007:  \n",
    "            if len(k[1]) == j:\n",
    "                count = count + 1\n",
    "        on2007.append(count)\n",
    "    hist.append([2001 + i, on2007])\n",
    "print hist"
   ]
  },
  {
   "cell_type": "code",
   "execution_count": null,
   "metadata": {
    "collapsed": false
   },
   "outputs": [],
   "source": [
    "#usage after appearance \n",
    "#in each year, look for phrases that appeared consecutively afterward? \n",
    "#consec_phrases [[year, [[(phrase), [[year, freq], [year2, freq2]]] [phrase...]]], [year2...]]\n",
    "consec_phrases = []\n",
    "#print phrases_online[0]\n",
    "ct6 = 14\n",
    "for i in phrases_online:\n",
    "    templist = []\n",
    "    for j in i[1]:\n",
    "        if len(j[1]) == ct6:\n",
    "            templist.append(j)\n",
    "    ct6 = ct6 - 1\n",
    "    consec_phrases.append([i[0], templist])"
   ]
  },
  {
   "cell_type": "code",
   "execution_count": null,
   "metadata": {
    "collapsed": false,
    "scrolled": true
   },
   "outputs": [],
   "source": [
    "#runs through all words, normalizes\n",
    "#(# year appeared after initial year)/(total number of years)\n",
    "#puts words from the 80-90% and keeps them in a new list \n",
    "hist3 = []\n",
    "eighty = []\n",
    "ninety = []\n",
    "for i in list_phrases_change:\n",
    "    hist3.append(len(i[1])*100./(2015 - i[1][0][0]))\n",
    "    if len(i[1])*100./(2015 - i[1][0][0]) >= 80. and len(i[1])*100./(2015 - i[1][0][0]) <= 90.:\n",
    "        eighty.append(i)\n",
    "    if len(i[1])*100./(2015 - i[1][0][0]) >= 100.:\n",
    "        ninety.append(i)\n",
    "\n",
    "plt.hist(hist3)"
   ]
  },
  {
   "cell_type": "code",
   "execution_count": null,
   "metadata": {
    "collapsed": false,
    "scrolled": true
   },
   "outputs": [],
   "source": [
    "#look at the 50 words in 80 - 90%\n",
    "\n",
    "#eighty_reorg does [[phrase, yrlist, freqlist], [nextphrase...]]\n",
    "eighty_reorg = []\n",
    "\n",
    "for i in eighty:\n",
    "    yrlist = []\n",
    "    freqlist = []\n",
    "    for j in i[1]:\n",
    "        yrlist.append(j[0])\n",
    "        freqlist.append(j[1])\n",
    "    eighty_reorg.append([i[0], yrlist, freqlist])\n",
    "for i in eighty_reorg:\n",
    "    plt.plot(i[1], i[2], label = i[0], color= [rand(), rand(), rand()])\n",
    "    #plt.legend(loc = \"upper right\", bbox_to_anchor = (1.5, 1))\n",
    "for i in eighty_reorg:\n",
    "    print i[0]"
   ]
  },
  {
   "cell_type": "code",
   "execution_count": null,
   "metadata": {
    "collapsed": false,
    "scrolled": true
   },
   "outputs": [],
   "source": [
    "#80-90% range of appearance: 10 most frequent words in the final year they appeared \n",
    "final_80 = []\n",
    "print eighty_reorg[0]\n",
    "\n",
    "for i in eighty_reorg:\n",
    "    final_80.append(i[2][len(i[2]) - 1])\n",
    "index_80max = []\n",
    "ct7 = 0\n",
    "while ct7 < 10:\n",
    "    index_80max.append(final_80.index(max(final_80)))\n",
    "    final_80[final_80.index(max(final_80))] = 0.0\n",
    "    ct7 = ct7 + 1\n",
    "for i in index_80max:\n",
    "    plt.plot(eighty_reorg[i][1], eighty_reorg[i][2], label = eighty_reorg[i][0], color = [rand(), rand(), rand()])\n",
    "    plt.legend(loc = \"upper right\", bbox_to_anchor = (1.5, 1))"
   ]
  },
  {
   "cell_type": "code",
   "execution_count": null,
   "metadata": {
    "collapsed": false,
    "scrolled": false
   },
   "outputs": [],
   "source": [
    "#80-90%, only new words after 200x\n",
    "for i in eighty_reorg:\n",
    "    if i[1][0] == 2006:\n",
    "        plt.plot(i[1], i[2], label = i[0], color = [rand(), rand(), rand()])\n",
    "        plt.legend(loc = \"upper right\", bbox_to_anchor = (1.5, 1))"
   ]
  },
  {
   "cell_type": "markdown",
   "metadata": {},
   "source": [
    "## Creators of the \"80-90%\" phrases "
   ]
  },
  {
   "cell_type": "code",
   "execution_count": null,
   "metadata": {
    "collapsed": false
   },
   "outputs": [],
   "source": [
    "#finds the authors behind the 80-90% phrases\n",
    " \n",
    "authors_phrase = []\n",
    "for k in eighty_reorg: \n",
    "    authors_phrase1 = []\n",
    "    for i in range(len(df.title)):\n",
    "        if str(k[0][0] + \" \" + k[0][1]) in df[\"abstract\"][i]:\n",
    "            for j in df[\"authors\"][i]:\n",
    "                authors_phrase1.append(j)\n",
    "    aut_p1 = Counter(authors_phrase1)\n",
    "    sorted_aut_p1 = sorted(aut_p1.items(), key=operator.itemgetter(1), reverse = True)   \n",
    "    authors_phrase.append([k[0], sorted_aut_p1])\n",
    "\n",
    "\n",
    "print authors_phrase[4]\n",
    "print len(authors_phrase)"
   ]
  },
  {
   "cell_type": "code",
   "execution_count": null,
   "metadata": {
    "collapsed": false
   },
   "outputs": [],
   "source": [
    "#did the same authors makes a lot of new phrases? \n",
    "#assume first five authors are creators, weight as first gets 5, second 4, etc.\n",
    "#count them up as a measure  \n",
    "aut_create = []\n",
    "aut_createshort = []\n",
    "for i in authors_phrase:\n",
    "    count = 5\n",
    "    for j in i[1][0:5]:\n",
    "        if j[0] not in aut_createshort:\n",
    "            aut_createshort.append(j[0])\n",
    "            aut_create.append([j[0], count])\n",
    "        else:\n",
    "            for k in aut_create:\n",
    "                if k[0] == j[0]:\n",
    "                    k[1] = k[1] + count\n",
    "        count = count - 1\n",
    "aut_create = sorted(aut_create, key=operator.itemgetter(1), reverse = True)\n",
    "print aut_create[:10]  \n",
    "#print aut_create"
   ]
  },
  {
   "cell_type": "code",
   "execution_count": null,
   "metadata": {
    "collapsed": false
   },
   "outputs": [],
   "source": [
    "#histogram -> looks like phrases are being created by many different authors \n",
    "aut_hist = []\n",
    "for i in aut_create:\n",
    "    aut_hist.append(i[1])\n",
    "plt.hist(aut_hist)"
   ]
  },
  {
   "cell_type": "code",
   "execution_count": null,
   "metadata": {
    "collapsed": false,
    "scrolled": true
   },
   "outputs": [],
   "source": [
    "#take the top authors (10 +) and list them next to the phrases they \"created\"\n",
    "aut_10 = []\n",
    "aut_10_word = []\n",
    "for i in aut_create:\n",
    "    if i[1] >= 10:\n",
    "        aut_10.append(i[0])\n",
    "for i in aut_10:\n",
    "    templist = []\n",
    "    for j in authors_phrase:\n",
    "        for k in j[1]:\n",
    "            if i == k[0]:\n",
    "                templist.append(j[0])\n",
    "    aut_10_word.append([i, templist])\n",
    "print aut_10_word[0]"
   ]
  },
  {
   "cell_type": "code",
   "execution_count": null,
   "metadata": {
    "collapsed": false
   },
   "outputs": [],
   "source": [
    "#finds the \"creators\" behind the 80-90% words (list of authors in the first  \n",
    "#time an abstract containing the 80-90% phrases created)\n",
    " \n",
    "for k in eighty_reorg: \n",
    "    authors_phrase1 = []\n",
    "    count = 0\n",
    "    for i in range(len(df.title)):\n",
    "        if str(k[0][0] + \" \" + k[0][1]) in df[\"abstract\"][i]:\n",
    "            for j in df[\"authors\"][i] :\n",
    "                if j not in authors_phrase1:\n",
    "                    authors_phrase1.append(j)\n",
    "            count = count + 1\n",
    "        if count == 1:\n",
    "            break \n",
    "      \n",
    "    creators_phrase.append([k[0], authors_phrase1])    "
   ]
  },
  {
   "cell_type": "code",
   "execution_count": null,
   "metadata": {
    "collapsed": false
   },
   "outputs": [],
   "source": [
    "create_list = []\n",
    "for i in creators_phrase:\n",
    "    for j in i[1]:\n",
    "        create_list.append(j)\n",
    "create_list = Counter(create_list)\n",
    "sorted_crt = sorted(create_list.items(), key=operator.itemgetter(1), reverse = True)   \n",
    "\n",
    "crt_hist = []\n",
    "for i in sorted_crt:\n",
    "    crt_hist.append(i[1])\n",
    "plt.hist(crt_hist)"
   ]
  },
  {
   "cell_type": "code",
   "execution_count": null,
   "metadata": {
    "collapsed": false
   },
   "outputs": [],
   "source": [
    "#compare \"creator\" list to phrase list \n",
    "#number of new authors in phrase list but not in creator list \n",
    "ctt7 = 0\n",
    "phrase_spread = []\n",
    "for i in authors_phrase:\n",
    "    temp_auts = i[1]\n",
    "    temp_crts = creators_phrase[ctt7][1]\n",
    "    weight = 0\n",
    "    for j in temp_auts:\n",
    "        if j[0] not in temp_crts:\n",
    "            weight = weight + 1\n",
    "    phrase_spread.append([i[0], weight])\n",
    "\n",
    "phrase_spread = sorted(phrase_spread, key=operator.itemgetter(1), reverse = True)"
   ]
  },
  {
   "cell_type": "markdown",
   "metadata": {},
   "source": [
    "## Creators for all phrases"
   ]
  },
  {
   "cell_type": "code",
   "execution_count": null,
   "metadata": {
    "collapsed": false
   },
   "outputs": [],
   "source": [
    "#find all the authors behind all the phrases \n",
    "\n",
    "creators_phrase_all = []\n",
    "for k in list_phrases_change: \n",
    "    for i in range(len(df.title)):\n",
    "        if str(k[0][0] + \" \" + k[0][1]) in df[\"abstract\"][i]:\n",
    "            creators_phrase_all.append([k[0], df[\"authors\"][i]])   \n",
    "            break    \n",
    "  "
   ]
  },
  {
   "cell_type": "code",
   "execution_count": null,
   "metadata": {
    "collapsed": false,
    "scrolled": true
   },
   "outputs": [],
   "source": [
    "#looks at creators across all abstracts and phrases (defined as first collaborators)\n",
    "\n",
    "creators_all = []\n",
    "for i in creators_phrase_all:\n",
    "    for j in i[1]:\n",
    "        creators_all.append(j)\n",
    "creators_all = sorted(Counter(creators_all).items(), key=operator.itemgetter(1), reverse = True) \n",
    "#print creators_all\n",
    "creators_all_hist = []\n",
    "for i in creators_all:\n",
    "    creators_all_hist.append(i[1])\n",
    "plt.hist(creators_all_hist)\n"
   ]
  },
  {
   "cell_type": "code",
   "execution_count": null,
   "metadata": {
    "collapsed": false
   },
   "outputs": [],
   "source": [
    "#looks at top creators (10+ phrases) across all abstracts and phrases, lists them\n",
    "# with their phrases and creation year \n",
    "top_creators = []\n",
    "for i in creators_all:\n",
    "    if i[1] >= 10:\n",
    "        top_creators.append(i)\n",
    "    else:\n",
    "        break \n",
    " \n",
    " \n",
    "top_creators_phrase = []\n",
    "for i in top_creators:\n",
    "    templist = []\n",
    "    for j in creators_phrase_all:\n",
    "        if i[0] in j[1]:\n",
    "            templist.append(j[0])\n",
    "    top_creators_phrase.append([i, templist])\n",
    "for i in top_creators_phrase[:5]:\n",
    "    print i\n",
    " "
   ]
  },
  {
   "cell_type": "markdown",
   "metadata": {},
   "source": [
    "# Largest changes in phrase frequency between years "
   ]
  },
  {
   "cell_type": "code",
   "execution_count": 79,
   "metadata": {
    "collapsed": false
   },
   "outputs": [
    {
     "name": "stdout",
     "output_type": "stream",
     "text": [
      "2001\n",
      "VISUAL 1.34854771784\n",
      "MOTION 1.32157676349\n",
      "TARGET 0.95643153527\n",
      "2002\n",
      "CONTRIBUTION 828.024128686\n",
      "SPECIFIED 527.067828418\n",
      "ECCENTRICITY 436.973978868\n",
      "2003\n",
      "ECCENTRICITY 391.987052227\n",
      "LOCATIONS 152.289354699\n",
      "MAGNITUDE 65.3206196292\n",
      "2004\n",
      "FRONTAL 72.5427992729\n",
      "LITTLE 29.2472085521\n",
      "TRANSFER 25.129699107\n",
      "2005\n",
      "ECCENTRICITY 575.203676847\n",
      "ADDED 49.4627649582\n",
      "PATCHES 37.2361073462\n",
      "2006\n",
      "UPRIGHT 138.093170644\n",
      "AFFECTS 39.2829639009\n",
      "COLORED 18.3726139997\n",
      "2007\n",
      "ECCENTRICITY 256.7679619\n",
      "LOCATIONS 179.996051443\n",
      "NEAR 168.458597341\n",
      "2008\n",
      "CONTRIBUTION 1130.81462585\n",
      "ECCENTRICITY 214.846661998\n",
      "UPRIGHT 157.045013803\n",
      "2009\n",
      "LOCATIONS 172.438311561\n",
      "ECCENTRICITY 118.295861015\n",
      "LITTLE 44.7759876249\n",
      "2010\n",
      "SOUND 95.8599554613\n",
      "AMOUNT 72.7032735506\n",
      "MENTAL 18.6423149244\n",
      "2011\n",
      "CONTRIBUTION 142.645157134\n",
      "POSSIBILITY 56.352677754\n",
      "AFTEREFFECTS 36.1137129405\n",
      "2012\n",
      "ECCENTRICITY 216.179086476\n",
      "NEAR 194.31774637\n",
      "UPRIGHT 121.566940409\n",
      "2013\n",
      "CONTRIBUTION 221.933000713\n",
      "ECCENTRICITY 98.7029625532\n",
      "COMPLEXITY 73.3545446191\n",
      "2014\n",
      "VARYING 36.6712339323\n",
      "POSSIBILITY 32.3367701739\n",
      "ORIENTATIONS 22.9731671748\n",
      "0.129388816645\n"
     ]
    }
   ],
   "source": [
    "#absolute increase \n",
    "list_phrases_diff = []\n",
    "list_fads = []\n",
    "for i in at_list_words_change:\n",
    "    #decide whether the first year is 0.0 or the absolute frequency\n",
    "    #templist = [[i[1][0][0], 0.0]] \n",
    "    templist = [i[1][0]]\n",
    "    if len(i[1]) > 1:\n",
    "        for k in range(1, len(i[1])):\n",
    "            #decide normalization \n",
    "            norm = 1.\n",
    "            norm = abs(i[1][len(i[1]) - 1][1] - i[1][0][1]) \n",
    "            templist.append([i[1][k][0], (i[1][k][1] - i[1][k-1][1])/norm])\n",
    "    list_phrases_diff.append([i[0], templist])\n",
    "#break down by year\n",
    "list_pdiff_reorg = []\n",
    "for i in range(2001, 2015):\n",
    "    templist = []\n",
    "    for j in list_phrases_diff:\n",
    "        templist2 = [k[0] for k in j[1]]\n",
    "        if i in templist2:\n",
    "            templist.append([j[0], j[1][templist2.index(i)][1]])\n",
    "    list_pdiff_reorg.append([i, templist])\n",
    "#get the largest 10 increases, decreases per year\n",
    "for i in list_pdiff_reorg:\n",
    "    print i[0]\n",
    "    a = np.array([k[1] for k in i[1]])\n",
    "    #increase or decrease\n",
    "    max_index = heapq.nlargest(len(a), range(len(a)), a.take)\n",
    "    for j in max_index:\n",
    "        if i[1][j][1] > 10.:\n",
    "            list_fads.append(i[1][j][0])\n",
    "    for j in max_index[:3]:\n",
    "        print i[1][j][0], i[1][j][1]\n",
    "#'fad' word - word that increased 50% its average\n",
    "        \n",
    "print len(list_fads)*1./len(list_phrases_diff)\n",
    "\n",
    "    \n",
    "            \n",
    "\n"
   ]
  },
  {
   "cell_type": "code",
   "execution_count": 81,
   "metadata": {
    "collapsed": false
   },
   "outputs": [
    {
     "data": {
      "image/png": "[encoded data removed]",
      "text/plain": [
       "<matplotlib.figure.Figure at 0x113cf4ad0>"
      ]
     },
     "metadata": {},
     "output_type": "display_data"
    }
   ],
   "source": [
    "for i in at_list_words_change:\n",
    "    if i[0] == 'CONTRIBUTION':\n",
    "        plt.plot([j[0] for j in i[1]], [j[1] for j in i[1]])\n",
    "        plt.title('behavioral data')"
   ]
  },
  {
   "cell_type": "markdown",
   "metadata": {},
   "source": [
    "# Changes in phrase frequency"
   ]
  },
  {
   "cell_type": "code",
   "execution_count": null,
   "metadata": {
    "collapsed": false,
    "scrolled": true
   },
   "outputs": [],
   "source": [
    "#finds the top 20 phrases that increased/decreased the most- - title or abstract\n",
    "list_pone = []\n",
    "list_pdif = []\n",
    "list_pdif2 = []\n",
    "list_pdif_prev = []\n",
    "for i in list_phrases_change:\n",
    "    count = 0\n",
    "    if len(i[1]) >= 1 and len(i[1]) <= 3:\n",
    "        list_pone.append([ i[1][0][0], i[0], i[1][0][1]])\n",
    "        list_pdif.append(0.0)\n",
    "        list_pdif2.append(5.00)\n",
    "    else: \n",
    "        for j in range(1, len(i[1])):\n",
    "            if i[1][j][1]/i[1][j-1][1] > 1.00:\n",
    "                count = count + 1\n",
    "        list_pdif.append(count)\n",
    "        list_pdif2.append(count)\n",
    "        list_pdif_prev.append(count)\n",
    "#print len(list_pone)\n",
    "\n",
    "#print list_pone\n",
    "\n",
    "list_ppos = []\n",
    "list_ppos_min = []\n",
    "ctt3 = 0\n",
    "\n",
    "while ctt3 < 20:\n",
    "    ind = list_pdif.index(max(list_pdif))\n",
    "    ind2 = list_pdif2.index(min(list_pdif2))\n",
    "    list_ppos.append(ind)\n",
    "    list_ppos_min.append(ind2)\n",
    "    list_pdif[ind] = 0.0\n",
    "    list_pdif2[ind2] = 5.00\n",
    "    ctt3 = ctt3 + 1\n",
    "\n",
    "top20_pchanged = []\n",
    "\n",
    "for i in list_ppos:\n",
    "    words_old = list_phrases_change[i]\n",
    "    temp_years = []\n",
    "    temp_freqs = []\n",
    "    for j in words_old[1]:\n",
    "        temp_years.append(j[0])\n",
    "        temp_freqs.append(j[1])\n",
    "    top20_pchanged.append([words_old[0], temp_years, temp_freqs])\n",
    "\n",
    "top20_pchanged_min = []\n",
    "for i in list_ppos_min: \n",
    "    words_old = list_phrases_change[i]\n",
    "    temp_years = []\n",
    "    temp_freqs = []\n",
    "    for j in words_old[1]:\n",
    "        temp_years.append(j[0])\n",
    "        temp_freqs.append(j[1])\n",
    "    top20_pchanged_min.append([words_old[0], temp_years, temp_freqs])\n",
    "\n",
    "#NOT doing norm(year)/norm(prev year) for quantification\n",
    "top20_pnorm = []\n",
    "for i in top20_pchanged:\n",
    "    count = 0\n",
    "    plist = []\n",
    "    while count < len(i[1]):\n",
    "        plist.append(i[2][count]) \n",
    "        count = count + 1\n",
    "    top20_pnorm.append([i[0], i[1], plist])\n",
    "\n",
    "#plot the 20 phrases\n",
    "for i in top20_pnorm:\n",
    "    plt.plot( i[1], i[2], label = i[0][0] + \" \" + i[0][1], color = [rand(), rand(), rand()])\n",
    "    plt.legend(loc = \"upper right\", bbox_to_anchor = (1.4, 1))\n"
   ]
  },
  {
   "cell_type": "code",
   "execution_count": null,
   "metadata": {
    "collapsed": false
   },
   "outputs": [],
   "source": [
    "top20_pnorm_min = []\n",
    "for i in top20_pchanged_min:\n",
    "    count = 0\n",
    "    plist = []\n",
    "    while count < len(i[1]):\n",
    "        plist.append(i[2][count]) \n",
    "        count = count + 1\n",
    "    top20_pnorm_min.append([i[0], i[1], plist])\n",
    "\n",
    "print top20_pnorm_min[0]\n",
    "#plot the 20 phrases\n",
    "for i in top20_pnorm_min:\n",
    "    plt.plot(i[1], i[2], label = i[0][0] + \" \" + i[0][1], color = [rand(), rand(), rand()])\n",
    "    plt.legend(loc = \"upper right\", bbox_to_anchor = (1.4, 1))"
   ]
  },
  {
   "cell_type": "markdown",
   "metadata": {},
   "source": [
    "## Linear regression based on year and word/phrase frequency"
   ]
  },
  {
   "cell_type": "code",
   "execution_count": null,
   "metadata": {
    "collapsed": false
   },
   "outputs": [],
   "source": [
    "#make data frame of words using list_words_change\n",
    "#only words that appear more than twice (or else throws error)\n",
    "dfwords = pd.DataFrame()\n",
    "\n",
    "col_words = []\n",
    "col_years = []\n",
    "col_freq = []\n",
    "for i in at_list_words_change:\n",
    "    if len(i[1]) > 2:\n",
    "        for j in range(len(i[1])):\n",
    "            col_words.append(i[0])\n",
    "        for j in i[1]:\n",
    "            col_years.append(j[0])\n",
    "            col_freq.append(j[1])\n",
    "dfwords[\"phrase\"] = pd.Series(col_words)\n",
    "dfwords[\"year\"] = pd.Series(col_years)\n",
    "dfwords[\"frequency\"] = pd.Series(col_freq)\n",
    "dfwords.head()"
   ]
  },
  {
   "cell_type": "code",
   "execution_count": null,
   "metadata": {
    "collapsed": false
   },
   "outputs": [],
   "source": [
    "dfwords[dfwords.phrase == \"visual system\"]\n"
   ]
  },
  {
   "cell_type": "code",
   "execution_count": null,
   "metadata": {
    "collapsed": false
   },
   "outputs": [],
   "source": [
    "phraselist = []\n",
    "for i in dfwords[\"phrase\"].tolist():\n",
    "    if i not in phraselist:\n",
    "        phraselist.append(i)\n",
    "print phraselist[:10]\n",
    "word_anova = []\n",
    "word_lm_results = []\n",
    "for phrase in set(phraselist):\n",
    "    # Get data into R\n",
    "    \n",
    "    r.r_data = dfwords[dfwords.phrase == phrase]\n",
    "    #print r('head(r_data)')\n",
    "\n",
    "    # Define variables \n",
    "    dataVar = 'frequency'\n",
    "    iv1 = 'year'\n",
    "\n",
    "    # Run ANOVA using R syntax with string variable defined above\n",
    "    r('anova <- lm('+dataVar+' ~ as.numeric('+iv1+'), data=r_data)')\n",
    "    r('myModelSummary <- summary(anova)')\n",
    "    #print r('summary(anova)')\n",
    "    #print r('coef(anova)')\n",
    "    word_lm_results.append([phrase, r.get('summary(anova)'), r.get('coef(anova)')])\n",
    "    pval_int =  r.get('summary(anova)$coefficients[,4]')\n",
    "    pval_test = r.get('summary(anova)$coefficients[,1]')\n",
    "    if pval_int[1] < 0.05:\n",
    "        word_anova.append([phrase, pval_int[1], pval_test[1]])\n",
    "    \n"
   ]
  },
  {
   "cell_type": "code",
   "execution_count": null,
   "metadata": {
    "collapsed": false
   },
   "outputs": [],
   "source": [
    "print len(word_anova)\n",
    "print len(at_list_words_change)"
   ]
  },
  {
   "cell_type": "code",
   "execution_count": null,
   "metadata": {
    "collapsed": false,
    "scrolled": true
   },
   "outputs": [],
   "source": [
    "#print word_anova[:10]\n",
    "\n",
    "#get list of words [word, p, m] with steepest slope\n",
    "anova_slope = []\n",
    "for i in word_anova:\n",
    "    anova_slope.append(i[2])\n",
    "a = numpy.array(anova_slope)\n",
    "anova_max_index = heapq.nlargest(len(a), range(len(a)), a.take)\n",
    "#subset anova_slope\n",
    "anova_slope_max = []\n",
    "for i in anova_max_index:\n",
    "    anova_slope_max.append(word_anova[i])\n",
    "\n",
    "decreasing_tw = []\n",
    "all_lm_data = []\n",
    "for i in anova_slope_max:\n",
    "    for j in at_list_words_change:\n",
    "        if j[0] == i[0]:\n",
    "            decreasing_tw.append(j)\n",
    "            '''\n",
    "            x_ax = []\n",
    "            y_ax = []\n",
    "            \n",
    "            for k in j[1]:\n",
    "                x_ax.append(k[0])\n",
    "                y_ax.append(k[1])\n",
    "            \n",
    "            plt.plot( x_ax, y_ax, label = j[0], color = [rand(), rand(), rand()])\n",
    "            plt.legend(loc = \"upper right\", bbox_to_anchor = (1.3, 1))\n",
    "            '''\n",
    "            \n",
    "            break\n"
   ]
  },
  {
   "cell_type": "code",
   "execution_count": null,
   "metadata": {
    "collapsed": false
   },
   "outputs": [],
   "source": [
    "\n",
    "with open('WA2.csv', 'wb') as csvfile:\n",
    "    spamwriter = csv.writer(csvfile, delimiter=' ',\n",
    "                             quoting=csv.QUOTE_MINIMAL)\n",
    "    for i in decreasing_tw:\n",
    "        spamwriter.writerow(i)\n",
    "\n"
   ]
  },
  {
   "cell_type": "code",
   "execution_count": null,
   "metadata": {
    "collapsed": false
   },
   "outputs": [],
   "source": [
    "for i in plot_word_filter:\n",
    "    if i[0] == \"REPRESENTATIONS\":\n",
    "        plt.plot( i[1], i[2], label = i[0])\n",
    "        plt.legend(loc = \"upper right\", bbox_to_anchor = (1.5, 1))"
   ]
  },
  {
   "cell_type": "code",
   "execution_count": null,
   "metadata": {
    "collapsed": false
   },
   "outputs": [],
   "source": [
    "#make a subset data frame of the 40 filtered words for the linear regression \n",
    "\n",
    "wfdf = pd.DataFrame()#pd.concat([dfwords[dfwords.phrase == word_filter[0][0]], dfwords[dfwords.phrase == word_filter[1][0]]])\n",
    "\n",
    "for i in word_filter:\n",
    "    wfdf = pd.concat([wfdf, dfwords[dfwords.phrase == i[0]]])\n"
   ]
  },
  {
   "cell_type": "markdown",
   "metadata": {},
   "source": [
    "# Stable phrases\n",
    "- small stdev\n",
    "- small slopes"
   ]
  },
  {
   "cell_type": "code",
   "execution_count": 237,
   "metadata": {
    "collapsed": false
   },
   "outputs": [
    {
     "name": "stdout",
     "output_type": "stream",
     "text": [
      "('visual', 'search') 0.0227223122923\n",
      "('visual', 'information') 0.0244509045118\n",
      "('visual', 'stimuli') 0.0270196463909\n",
      "('low', 'spatial') 0.0280841458497\n",
      "('better', 'performance') -0.0291800967993\n",
      "('onset', 'asynchrony') -0.029743755361\n",
      "('visual', 'processing') 0.03064355849\n",
      "('primary', 'visual') -0.0315188455984\n",
      "('detection', 'task') 0.0317632863031\n",
      "('eye', 'movements') 0.0319178136582\n",
      "('constant', 'stimuli') -0.0320373952099\n",
      "('head-mounted', 'display') -0.0335310959962\n",
      "('moving', 'stimulus') -0.0345394514636\n",
      "('target', 'location') -0.034638522828\n",
      "('parietal', 'cortex') 0.0377381684855\n",
      "('pursuit', 'eye') -0.0384366295625\n",
      "('visual', 'cortex') 0.0387016731134\n",
      "('random', 'dots') -0.0387992742592\n",
      "('three', 'conditions') -0.038829675422\n",
      "('spatial', 'attention') 0.0392578990606\n"
     ]
    },
    {
     "data": {
      "image/png": "[encoded data removed]",
      "text/plain": [
       "<matplotlib.figure.Figure at 0x11f3928d0>"
      ]
     },
     "metadata": {},
     "output_type": "display_data"
    }
   ],
   "source": [
    "import ast\n",
    "#look at steadiest phrases over time (slope/avg(vals) closest to 0)\n",
    "pa = []\n",
    "pa_freqs = []\n",
    "f1 = open('PA.csv', 'r')\n",
    "for line in f1:\n",
    "    pa.append(line.strip().split(\" \"))\n",
    "f2 = open('PA2.csv', 'r')\n",
    "for line in f2:\n",
    "    pa_freqs.append(line.split( \"\\\"\"))\n",
    "pa_freqs2 = []\n",
    "for i in pa_freqs:\n",
    "    pa_freqs2.append([ast.literal_eval(i[1]),ast.literal_eval(i[3])])\n",
    "\n",
    " \n",
    "\n",
    "pa = [[ast.literal_eval(w + \" \" + x), float(y), float(z)] for w, x, y, z in pa]\n",
    "\n",
    "pa_slopes = [z for x, y, z in pa]\n",
    "for i in pa:\n",
    "    for j in list_pc_edit:\n",
    "        if j[0][0] + \" \" + j[0][1] == i[0]:\n",
    "            avg = sum(j[2])/len(j[2])\n",
    "            pa_slopes[pa.index(i)] = pa_slopes[pa.index(i)]/avg\n",
    "            \n",
    "a = np.array([abs(x) for x in pa_slopes])\n",
    "phrase_st_small = heapq.nsmallest(len(pa), range(len(a)), a.take)\n",
    "\n",
    "phrase_sts_list = []\n",
    "ctta = 0\n",
    "for i in phrase_st_small:\n",
    "    for j in list_pc_edit:\n",
    "        if j[0][0] + \" \" + j[0][1] == pa[i][0] and ctta < 20:\n",
    "            if len(j[1]) > 8:\n",
    "                phrase_sts_list.append(j + [pa_slopes[i]])\n",
    "                ctta = ctta + 1\n",
    "plt.plot(phrase_sts_list[4][1], phrase_sts_list[4][2], label = phrase_sts_list[1][0])\n",
    "\n",
    "for w, x, y, z in phrase_sts_list:\n",
    "    print w, z\n",
    "\n"
   ]
  },
  {
   "cell_type": "code",
   "execution_count": 15,
   "metadata": {
    "collapsed": false,
    "scrolled": true
   },
   "outputs": [
    {
     "name": "stdout",
     "output_type": "stream",
     "text": [
      "('optic', 'flow')\n",
      "0.0220660545535\n"
     ]
    },
    {
     "data": {
      "image/png": "[encoded data removed]",
      "text/plain": [
       "<matplotlib.figure.Figure at 0x111aabdd0>"
      ]
     },
     "metadata": {},
     "output_type": "display_data"
    }
   ],
   "source": [
    "#looks at largest stdevs \n",
    "list_pc_edit = []\n",
    "for x, y in list_phrases_change:\n",
    "    list_pc_edit.append([x, [a for a, b in y], [b for a, b in y]])\n",
    "    \n",
    "phrases_st = [np.std(np.array(z)) for x, y, z in list_pc_edit] \n",
    "\n",
    "for i in phrases_st:\n",
    "    if i == 0:\n",
    "        phrases_st[phrases_st.index(i)] = -10.0\n",
    "\n",
    "a = np.array(phrases_st)\n",
    "\n",
    "phrase_st_large = heapq.nlargest(20, range(len(a)), a.take)\n",
    "\n",
    "phrase_stl_list = []\n",
    "for i in phrase_st_large:\n",
    "    phrase_stl_list.append(list_pc_edit[i])\n",
    "\n",
    "plt.plot(phrase_stl_list[3][1], phrase_stl_list[3][2], label = phrase_stl_list[3][0])\n",
    "\n",
    "print phrase_stl_list[3][0]\n",
    "print phrases_st[phrase_st_large[3]]"
   ]
  },
  {
   "cell_type": "code",
   "execution_count": 16,
   "metadata": {
    "collapsed": false
   },
   "outputs": [
    {
     "name": "stdout",
     "output_type": "stream",
     "text": [
      "('frontal', 'eye') 0.000802433435836\n",
      "('visual', 'display') 0.000887028584803\n",
      "('subjective', 'equality') 0.00112487790522\n",
      "('least', 'two') 0.00121563100847\n",
      "('conjunction', 'search') 0.00125134288157\n",
      "('better', 'performance') 0.00133369476912\n",
      "('spatial', 'extent') 0.00134727144426\n",
      "('very', 'similar') 0.0013702109697\n",
      "('temporal', 'dynamics') 0.00138851220583\n",
      "('search', 'array') 0.00140119846713\n",
      "('head-mounted', 'display') 0.00142200488835\n",
      "('dots', 'moved') 0.00145788068326\n",
      "('spatial', 'position') 0.00146603587388\n",
      "('what', 'extent') 0.00149351658928\n",
      "('without', 'any') 0.00149630560017\n",
      "('data', 'show') 0.00149975505772\n",
      "('inferior', 'temporal') 0.00150719199817\n",
      "('onset', 'asynchrony') 0.00151719568915\n",
      "('reverse', 'correlation') 0.00152501864558\n",
      "('some', 'trials') 0.00153251974304\n"
     ]
    },
    {
     "data": {
      "image/png": "[encoded data removed]",
      "text/plain": [
       "<matplotlib.figure.Figure at 0x111c4efd0>"
      ]
     },
     "metadata": {},
     "output_type": "display_data"
    }
   ],
   "source": [
    "#find smallest stdevs in phrases\n",
    "\n",
    "a = np.array([abs(x) for x in phrases_st])\n",
    "phrase_st_small = heapq.nsmallest(len(a), range(len(a)), a.take)\n",
    "\n",
    "phrase_sts_list = []\n",
    "ctta = 0\n",
    "for i in phrase_st_small:\n",
    "    if len(list_pc_edit[i][1]) > 8 and ctta < 20:\n",
    "        phrase_sts_list.append(list_pc_edit[i] + [a[i]])\n",
    "        ctta = ctta + 1\n",
    "plt.plot(phrase_sts_list[5][1], phrase_sts_list[5][2], label = phrase_sts_list[0][0])\n",
    "\n",
    "for w, x, y, z in phrase_sts_list:\n",
    "    print w, z\n"
   ]
  },
  {
   "cell_type": "markdown",
   "metadata": {},
   "source": [
    "# Word correlations"
   ]
  },
  {
   "cell_type": "code",
   "execution_count": null,
   "metadata": {
    "collapsed": false
   },
   "outputs": [],
   "source": [
    "#find popular words across all abstracts\n",
    "\n",
    "\n",
    "passage = df.abstract.str.cat(sep=' ') #this specifies to treat titles as 'str' and the concat all cells with a space separating\n",
    "words = re.findall(r'\\w+', passage)\n",
    "cap_words = [word.upper() for word in words]\n",
    "word_counts = Counter(cap_words)\n",
    "\n",
    "sorted_wc = sorted(word_counts.items(), key=operator.itemgetter(1), reverse = True)\n",
    "\n",
    "\n",
    "test_words = []\n",
    "\n",
    "ctt = 0\n",
    "ctt2 = 320\n",
    "while ctt < 10:\n",
    "    if str(sorted_wc[ctt2][0]).lower() not in wordlist:\n",
    "        test_words.append(str(sorted_wc[ctt2][0]))\n",
    "        ctt = ctt + 1\n",
    "    ctt2 = ctt2 + 1\n",
    "    \n",
    "print test_words\n"
   ]
  },
  {
   "cell_type": "code",
   "execution_count": 58,
   "metadata": {
    "collapsed": false
   },
   "outputs": [
    {
     "name": "stdout",
     "output_type": "stream",
     "text": [
      "0\n"
     ]
    }
   ],
   "source": [
    "#try for 10 words\n",
    "corr_matrix = np.empty(shape = [len(test_words), len(test_words)])\n",
    "for i in range(len(test_words)):\n",
    "    if i% 100 == 0:\n",
    "        print i\n",
    "    temp_word = test_words[i].lower()\n",
    "    for j in range(i + 1, len(test_words)):\n",
    "        temp_word2 = test_words[j].lower()\n",
    "        corr_matrix[i, j] = len(df[df.abstract.str.contains(temp_word) & df.abstract.str.contains(temp_word2)] )"
   ]
  },
  {
   "cell_type": "code",
   "execution_count": 62,
   "metadata": {
    "collapsed": false
   },
   "outputs": [
    {
     "name": "stdout",
     "output_type": "stream",
     "text": [
      "8\n",
      "RESEARCH ABILITY\n"
     ]
    }
   ],
   "source": [
    "print np.argmax(corr_matrix)\n",
    "print test_words[0], test_words[8]"
   ]
  },
  {
   "cell_type": "markdown",
   "metadata": {},
   "source": [
    "## % changes in word frequency for titles and abstracts "
   ]
  },
  {
   "cell_type": "code",
   "execution_count": null,
   "metadata": {
    "collapsed": false,
    "scrolled": false
   },
   "outputs": [],
   "source": [
    "#finds the top 20 words that changed the most over the years \n",
    "list_one = []\n",
    "list_dif = []\n",
    "list_dif2 = []\n",
    "#if a word only appears once, it's set to 0 (or else you get a lot of words that only appeared in one year)\n",
    "for i in list_words_change:\n",
    "    if len(i[1]) == 1:\n",
    "        list_dif.append(0)\n",
    "        list_dif2.append(0)\n",
    "        list_one.append([i[1][0][0], i[0], i[1][0][1]])\n",
    "    else:\n",
    "        list_dif.append(i[1][len(i[1]) - 1][1] - i[1][0][1])\n",
    "        list_dif2.append(i[1][len(i[1]) - 1][1] - i[1][0][1])\n",
    "list_pos = []\n",
    "list_pos_min = []\n",
    "ctt3 = 0\n",
    "\n",
    "while ctt3 < 20:\n",
    "    ind = list_dif.index(max(list_dif))\n",
    "    ind2 = list_dif2.index(min(list_dif2))\n",
    "    list_pos.append(ind)\n",
    "    list_pos_min.append(ind2)\n",
    "    list_dif[ind] = 0.0\n",
    "    list_dif2[ind2] = 5.0\n",
    "    ctt3 = ctt3 + 1 \n",
    "\n",
    "top20_changed = []\n",
    "top20_changed_min = []\n",
    "#reorgs top20 changed words in [['WORD', [years], [freqs]], etc]\n",
    "for i in list_pos:\n",
    "    words_old = list_words_change[i]\n",
    "    temp_years = []\n",
    "    temp_freqs = []\n",
    "    for j in words_old[1]:\n",
    "        temp_years.append(j[0])\n",
    "        temp_freqs.append(j[1])\n",
    "    top20_changed.append([words_old[0], temp_years, temp_freqs])\n",
    "\n",
    "for i in list_pos_min:\n",
    "    words_old = list_words_change[i]\n",
    "    temp_years = []\n",
    "    temp_freqs = []\n",
    "    for j in words_old[1]:\n",
    "        temp_years.append(j[0])\n",
    "        temp_freqs.append(j[1])\n",
    "    top20_changed_min.append([words_old[0], temp_years, temp_freqs]) \n",
    "#plot the 10 words\n",
    "for i in top20_changed[1:]:\n",
    "    \n",
    "    plt.plot( i[1], i[2], label = i[0], color = [rand(), rand(), rand()])\n",
    "    plt.legend(loc = \"upper right\", bbox_to_anchor = (1.4, 1))\n"
   ]
  },
  {
   "cell_type": "code",
   "execution_count": null,
   "metadata": {
    "collapsed": false
   },
   "outputs": [],
   "source": [
    "#plot changes over the year (increasing)\n",
    "top20_delta = []\n",
    "for i in top20_changed:\n",
    "    temp_freqs_delta = []\n",
    "    for j in range(len(i[1]) - 1):\n",
    "        dif= i[2][j+1] - i[2][j]\n",
    "        temp_freqs_delta.append(dif)\n",
    "    top20_delta.append([i[0], i[1][:len(i[1]) - 1], temp_freqs_delta])\n",
    "\n",
    "for i in top20_delta:\n",
    "    plt.plot( i[1], i[2], label = i[0],color = [rand(), rand(), rand()] )\n",
    "    plt.legend(loc = \"upper right\", bbox_to_anchor = (1.4, 1))\n",
    "  "
   ]
  },
  {
   "cell_type": "code",
   "execution_count": null,
   "metadata": {
    "collapsed": false
   },
   "outputs": [],
   "source": [
    "#plot the 20 words that decreased in freq the most\n",
    "\n",
    "\n",
    "for i in top20_changed_min:\n",
    "    if i[0] != \"MOTION\":\n",
    "        plt.plot( i[1], i[2], label = i[0], color = [rand(), rand(), rand()])\n",
    "        plt.legend(loc = \"upper right\", bbox_to_anchor = (1.4, 1))"
   ]
  },
  {
   "cell_type": "code",
   "execution_count": null,
   "metadata": {
    "collapsed": false
   },
   "outputs": [],
   "source": [
    "#same thing, but for abstracts\n",
    "#finds the top 20 words that changed the most over the years \n",
    "\n",
    "at_list_dif = []\n",
    "at_list_dif2 = []\n",
    "#if a word only appears once, it's set to 0 (or else you get a lot of words that only appeared in one year)\n",
    "for i in at_list_words_change:\n",
    "    if len(i[1]) == 1:\n",
    "        at_list_dif.append(0)\n",
    "        at_list_dif2.append(0)\n",
    "    \n",
    "    else:\n",
    "        at_list_dif.append(i[1][len(i[1]) - 1][1] - i[1][0][1])\n",
    "        at_list_dif2.append(i[1][len(i[1]) - 1][1] - i[1][0][1])\n",
    "at_list_pos = []\n",
    "at_list_pos_min = []\n",
    "\n",
    "ctt3 = 0\n",
    "print ct10\n",
    "while ctt3 < 20:\n",
    "    ind = at_list_dif.index(max(at_list_dif))\n",
    "    ind2 = at_list_dif2.index(min(at_list_dif2))\n",
    "    at_list_pos.append(ind)\n",
    "    at_list_pos_min.append(ind2)\n",
    "    at_list_dif[ind] = 0.0\n",
    "    at_list_dif2[ind2] = 5.0\n",
    "    ctt3 = ctt3 + 1 \n",
    "\n",
    "at_top20_changed = []\n",
    "at_top20_changed_min = []\n",
    "#reorgs top20 changed words in [['WORD', [years], [freqs]], etc]\n",
    "for i in at_list_pos:\n",
    "    words_old = at_list_words_change[i]\n",
    "    temp_years = []\n",
    "    temp_freqs = []\n",
    "    for j in words_old[1]:\n",
    "        temp_years.append(j[0])\n",
    "        temp_freqs.append(j[1])\n",
    "    at_top20_changed.append([words_old[0], temp_years, temp_freqs])\n",
    "\n",
    "for i in at_list_pos_min:\n",
    "    words_old = at_list_words_change[i]\n",
    "    temp_years = []\n",
    "    temp_freqs = []\n",
    "    for j in words_old[1]:\n",
    "        temp_years.append(j[0])\n",
    "        temp_freqs.append(j[1])\n",
    "    at_top20_changed_min.append([words_old[0], temp_years, temp_freqs]) \n",
    "#plot the 20 words\n",
    "for i in at_top20_changed:\n",
    "    if i[0] != \"VISUAL\":\n",
    "        plt.plot( i[1], i[2], label = i[0], color = [rand(), rand(), rand()])\n",
    "        plt.legend(loc = \"upper right\", bbox_to_anchor = (1.5, 1))\n"
   ]
  },
  {
   "cell_type": "code",
   "execution_count": null,
   "metadata": {
    "collapsed": false
   },
   "outputs": [],
   "source": [
    "print at_list_words_change[0][1][len(at_list_words_change[0][1]) - 1][1]\n",
    "\n",
    "at_2014 = df[df.year == \"2014\"].abstract.str.cat(sep=\" \")"
   ]
  },
  {
   "cell_type": "code",
   "execution_count": null,
   "metadata": {
    "collapsed": false
   },
   "outputs": [],
   "source": [
    "\n"
   ]
  },
  {
   "cell_type": "code",
   "execution_count": null,
   "metadata": {
    "collapsed": true
   },
   "outputs": [],
   "source": []
  }
 ],
 "metadata": {
  "kernelspec": {
   "display_name": "Python 2",
   "language": "python",
   "name": "python2"
  },
  "language_info": {
   "codemirror_mode": {
    "name": "ipython",
    "version": 2
   },
   "file_extension": ".py",
   "mimetype": "text/x-python",
   "name": "python",
   "nbconvert_exporter": "python",
   "pygments_lexer": "ipython2",
   "version": "2.7.11"
  }
 },
 "nbformat": 4,
 "nbformat_minor": 0
}
